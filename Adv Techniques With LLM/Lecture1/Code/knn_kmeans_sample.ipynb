{
 "cells": [
  {
   "cell_type": "code",
   "id": "initial_id",
   "metadata": {
    "collapsed": true,
    "ExecuteTime": {
     "end_time": "2025-09-22T02:31:42.589087Z",
     "start_time": "2025-09-22T02:31:42.415772Z"
    }
   },
   "source": [
    "import pandas as pd\n",
    "from sklearn.model_selection import train_test_split\n",
    "from sklearn.neighbors import KNeighborsClassifier\n",
    "from sklearn.metrics import accuracy_score\n",
    "from sklearn.cluster import KMeans\n",
    "import matplotlib.pyplot as plt\n",
    "\n",
    "from DataScience.HW8.feature_reduction_sample import norm_feat_df\n",
    "\n",
    "#input dateset\n",
    "org_df = pd.read_csv('Liver_disease_data.csv')\n",
    "\n",
    "#Define features and label for KNN\n",
    "label_df = org_df.loc[:,org_df.columns == 'Diagnosis']\n",
    "feat_df = org_df.loc[:,org_df.columns != 'Diagnosis']\n",
    "\n",
    "#Encoding Categorical variables \n",
    "feat_df = pd.get_dummies(feat_df,dtype = 'int')\n",
    "\n",
    "#Normalize Date\n",
    "norm_feat_df = (feat_df - feat_df.mean())/feat_df.std()\n",
    "\n",
    "# Seperate test and train data\n",
    "train_feat, test_feat, train_lbl, test_lbl = train_test_split(norm_feat_df,label_df,test_size=0.2)\n",
    "\n",
    "#KNN Model\n",
    "knn = KNeighborsClassifier(n_neighbors=9)\n",
    "knn.fit(train_feat,train_lbl)\n",
    "\n",
    "print(label_df)"
   ],
   "outputs": [
    {
     "ename": "ModuleNotFoundError",
     "evalue": "No module named 'mlxtend'",
     "output_type": "error",
     "traceback": [
      "\u001B[31m---------------------------------------------------------------------------\u001B[39m",
      "\u001B[31mModuleNotFoundError\u001B[39m                       Traceback (most recent call last)",
      "\u001B[36mCell\u001B[39m\u001B[36m \u001B[39m\u001B[32mIn[4]\u001B[39m\u001B[32m, line 8\u001B[39m\n\u001B[32m      5\u001B[39m \u001B[38;5;28;01mfrom\u001B[39;00m\u001B[38;5;250m \u001B[39m\u001B[34;01msklearn\u001B[39;00m\u001B[34;01m.\u001B[39;00m\u001B[34;01mcluster\u001B[39;00m\u001B[38;5;250m \u001B[39m\u001B[38;5;28;01mimport\u001B[39;00m KMeans\n\u001B[32m      6\u001B[39m \u001B[38;5;28;01mimport\u001B[39;00m\u001B[38;5;250m \u001B[39m\u001B[34;01mmatplotlib\u001B[39;00m\u001B[34;01m.\u001B[39;00m\u001B[34;01mpyplot\u001B[39;00m\u001B[38;5;250m \u001B[39m\u001B[38;5;28;01mas\u001B[39;00m\u001B[38;5;250m \u001B[39m\u001B[34;01mplt\u001B[39;00m\n\u001B[32m----> \u001B[39m\u001B[32m8\u001B[39m \u001B[38;5;28;01mfrom\u001B[39;00m\u001B[38;5;250m \u001B[39m\u001B[34;01mDataScience\u001B[39;00m\u001B[34;01m.\u001B[39;00m\u001B[34;01mHW8\u001B[39;00m\u001B[34;01m.\u001B[39;00m\u001B[34;01mfeature_reduction_sample\u001B[39;00m\u001B[38;5;250m \u001B[39m\u001B[38;5;28;01mimport\u001B[39;00m norm_feat_df\n\u001B[32m     10\u001B[39m \u001B[38;5;66;03m#input dateset\u001B[39;00m\n\u001B[32m     11\u001B[39m org_df = pd.read_csv(\u001B[33m'\u001B[39m\u001B[33mLiver_disease_data.csv\u001B[39m\u001B[33m'\u001B[39m)\n",
      "\u001B[36mFile \u001B[39m\u001B[32m~/Documents/GitHub/Python/DataScience/HW8/feature_reduction_sample.py:4\u001B[39m\n\u001B[32m      2\u001B[39m \u001B[38;5;28;01mfrom\u001B[39;00m\u001B[38;5;250m \u001B[39m\u001B[34;01msklearn\u001B[39;00m\u001B[34;01m.\u001B[39;00m\u001B[34;01mdiscriminant_analysis\u001B[39;00m\u001B[38;5;250m \u001B[39m\u001B[38;5;28;01mimport\u001B[39;00m LinearDiscriminantAnalysis \u001B[38;5;28;01mas\u001B[39;00m LDA\n\u001B[32m      3\u001B[39m \u001B[38;5;28;01mfrom\u001B[39;00m\u001B[38;5;250m \u001B[39m\u001B[34;01msklearn\u001B[39;00m\u001B[34;01m.\u001B[39;00m\u001B[34;01mfeature_selection\u001B[39;00m\u001B[38;5;250m \u001B[39m\u001B[38;5;28;01mimport\u001B[39;00m mutual_info_regression, VarianceThreshold\n\u001B[32m----> \u001B[39m\u001B[32m4\u001B[39m \u001B[38;5;28;01mfrom\u001B[39;00m\u001B[38;5;250m \u001B[39m\u001B[34;01mmlxtend\u001B[39;00m\u001B[34;01m.\u001B[39;00m\u001B[34;01mfeature_selection\u001B[39;00m\u001B[38;5;250m \u001B[39m\u001B[38;5;28;01mimport\u001B[39;00m SequentialFeatureSelector \u001B[38;5;28;01mas\u001B[39;00m SFS\n\u001B[32m      5\u001B[39m \u001B[38;5;28;01mfrom\u001B[39;00m\u001B[38;5;250m \u001B[39m\u001B[34;01msklearn\u001B[39;00m\u001B[34;01m.\u001B[39;00m\u001B[34;01mneighbors\u001B[39;00m\u001B[38;5;250m \u001B[39m\u001B[38;5;28;01mimport\u001B[39;00m KNeighborsClassifier\n\u001B[32m      6\u001B[39m \u001B[38;5;28;01mfrom\u001B[39;00m\u001B[38;5;250m \u001B[39m\u001B[34;01mmatplotlib\u001B[39;00m\u001B[38;5;250m \u001B[39m\u001B[38;5;28;01mimport\u001B[39;00m pyplot \u001B[38;5;28;01mas\u001B[39;00m plt\n",
      "\u001B[31mModuleNotFoundError\u001B[39m: No module named 'mlxtend'"
     ]
    }
   ],
   "execution_count": 4
  },
  {
   "metadata": {},
   "cell_type": "code",
   "outputs": [],
   "execution_count": null,
   "source": "plt.show()",
   "id": "2133cbe64611d473"
  },
  {
   "metadata": {},
   "cell_type": "code",
   "outputs": [],
   "execution_count": null,
   "source": "",
   "id": "1503377235cf3478"
  }
 ],
 "metadata": {
  "kernelspec": {
   "display_name": "Python 3",
   "language": "python",
   "name": "python3"
  },
  "language_info": {
   "codemirror_mode": {
    "name": "ipython",
    "version": 2
   },
   "file_extension": ".py",
   "mimetype": "text/x-python",
   "name": "python",
   "nbconvert_exporter": "python",
   "pygments_lexer": "ipython2",
   "version": "2.7.6"
  }
 },
 "nbformat": 4,
 "nbformat_minor": 5
}
