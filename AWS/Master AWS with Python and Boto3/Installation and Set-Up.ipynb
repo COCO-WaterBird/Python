{
 "cells": [
  {
   "cell_type": "code",
   "id": "initial_id",
   "metadata": {
    "collapsed": true,
    "ExecuteTime": {
     "end_time": "2025-10-11T23:04:03.722507Z",
     "start_time": "2025-10-11T23:03:35.302221Z"
    }
   },
   "source": "!pip install boto3",
   "outputs": [
    {
     "name": "stdout",
     "output_type": "stream",
     "text": [
      "Collecting boto3\r\n",
      "  Downloading boto3-1.40.50-py3-none-any.whl.metadata (6.7 kB)\r\n",
      "Collecting botocore<1.41.0,>=1.40.50 (from boto3)\r\n",
      "  Downloading botocore-1.40.50-py3-none-any.whl.metadata (5.7 kB)\r\n",
      "Collecting jmespath<2.0.0,>=0.7.1 (from boto3)\r\n",
      "  Downloading jmespath-1.0.1-py3-none-any.whl.metadata (7.6 kB)\r\n",
      "Collecting s3transfer<0.15.0,>=0.14.0 (from boto3)\r\n",
      "  Downloading s3transfer-0.14.0-py3-none-any.whl.metadata (1.7 kB)\r\n",
      "Requirement already satisfied: python-dateutil<3.0.0,>=2.1 in /opt/anaconda3/envs/tf_env/lib/python3.10/site-packages (from botocore<1.41.0,>=1.40.50->boto3) (2.9.0.post0)\r\n",
      "Requirement already satisfied: urllib3!=2.2.0,<3,>=1.25.4 in /opt/anaconda3/envs/tf_env/lib/python3.10/site-packages (from botocore<1.41.0,>=1.40.50->boto3) (2.5.0)\r\n",
      "Requirement already satisfied: six>=1.5 in /opt/anaconda3/envs/tf_env/lib/python3.10/site-packages (from python-dateutil<3.0.0,>=2.1->botocore<1.41.0,>=1.40.50->boto3) (1.17.0)\r\n",
      "Downloading boto3-1.40.50-py3-none-any.whl (139 kB)\r\n",
      "Downloading botocore-1.40.50-py3-none-any.whl (14.1 MB)\r\n",
      "\u001B[2K   \u001B[90m━━━━━━━━━━━━━━━━━━━━━━━━━━━━━━━━━━━━━━━━\u001B[0m \u001B[32m14.1/14.1 MB\u001B[0m \u001B[31m582.0 kB/s\u001B[0m  \u001B[33m0:00:24\u001B[0mm0:00:01\u001B[0m00:01\u001B[0m\r\n",
      "\u001B[?25hDownloading jmespath-1.0.1-py3-none-any.whl (20 kB)\r\n",
      "Downloading s3transfer-0.14.0-py3-none-any.whl (85 kB)\r\n",
      "Installing collected packages: jmespath, botocore, s3transfer, boto3\r\n",
      "\u001B[2K   \u001B[90m━━━━━━━━━━━━━━━━━━━━━━━━━━━━━━━━━━━━━━━━\u001B[0m \u001B[32m4/4\u001B[0m [boto3]32m1/4\u001B[0m [botocore]\r\n",
      "\u001B[1A\u001B[2KSuccessfully installed boto3-1.40.50 botocore-1.40.50 jmespath-1.0.1 s3transfer-0.14.0\r\n"
     ]
    }
   ],
   "execution_count": 1
  },
  {
   "metadata": {
    "ExecuteTime": {
     "end_time": "2025-10-12T00:41:53.071871Z",
     "start_time": "2025-10-12T00:41:52.916305Z"
    }
   },
   "cell_type": "code",
   "source": [
    "import boto3\n",
    "\n",
    "s3 = boto3.resource('s3')\n",
    "\n",
    "\n"
   ],
   "id": "19a79fa78d2c00af",
   "outputs": [],
   "execution_count": 5
  },
  {
   "metadata": {
    "ExecuteTime": {
     "end_time": "2025-10-12T00:41:56.269835Z",
     "start_time": "2025-10-12T00:41:55.696581Z"
    }
   },
   "cell_type": "code",
   "source": [
    "for bucket in s3.buckets.all():\n",
    "    print(bucket.name)"
   ],
   "id": "f81079b70503a2ac",
   "outputs": [],
   "execution_count": 6
  },
  {
   "metadata": {
    "ExecuteTime": {
     "end_time": "2025-10-12T03:13:14.782550Z",
     "start_time": "2025-10-12T03:13:14.636717Z"
    }
   },
   "cell_type": "code",
   "source": "client = boto3.client('s3')",
   "id": "8acebc3eb9f774de",
   "outputs": [],
   "execution_count": 7
  },
  {
   "metadata": {
    "ExecuteTime": {
     "end_time": "2025-10-12T03:17:36.300978Z",
     "start_time": "2025-10-12T03:17:35.578514Z"
    }
   },
   "cell_type": "code",
   "source": "client.create_bucket(Bucket='123-test1-my-bucket123')",
   "id": "ceee0cd988f38754",
   "outputs": [
    {
     "data": {
      "text/plain": [
       "{'ResponseMetadata': {'RequestId': '575XWABMR48G34NA',\n",
       "  'HostId': 'YVNPMvzVbjYLTJsElWpkeCxFtSjNIdb9q7hKg9euw2hGcgXFyHzmKm/zjOBWy3Ek7pHKucfLgvU=',\n",
       "  'HTTPStatusCode': 200,\n",
       "  'HTTPHeaders': {'x-amz-id-2': 'YVNPMvzVbjYLTJsElWpkeCxFtSjNIdb9q7hKg9euw2hGcgXFyHzmKm/zjOBWy3Ek7pHKucfLgvU=',\n",
       "   'x-amz-request-id': '575XWABMR48G34NA',\n",
       "   'date': 'Sun, 12 Oct 2025 03:17:37 GMT',\n",
       "   'location': '/123-test1-my-bucket123',\n",
       "   'content-length': '0',\n",
       "   'server': 'AmazonS3'},\n",
       "  'RetryAttempts': 0},\n",
       " 'Location': '/123-test1-my-bucket123'}"
      ]
     },
     "execution_count": 13,
     "metadata": {},
     "output_type": "execute_result"
    }
   ],
   "execution_count": 13
  },
  {
   "metadata": {
    "ExecuteTime": {
     "end_time": "2025-10-12T03:20:35.404938Z",
     "start_time": "2025-10-12T03:20:35.397742Z"
    }
   },
   "cell_type": "code",
   "source": [
    "with open('myfile.txt', 'w') as file:\n",
    "    file.write('This is a test file for upload.')"
   ],
   "id": "96359a535031890b",
   "outputs": [],
   "execution_count": 14
  },
  {
   "metadata": {
    "ExecuteTime": {
     "end_time": "2025-10-12T03:22:26.078396Z",
     "start_time": "2025-10-12T03:22:23.544073Z"
    }
   },
   "cell_type": "code",
   "source": "client.upload_file(Filename='myfile.txt', Bucket='123-test1-my-bucket123', Key='test-upload-file')",
   "id": "d2bba8ba4d5244b7",
   "outputs": [],
   "execution_count": 15
  },
  {
   "metadata": {
    "ExecuteTime": {
     "end_time": "2025-10-12T03:52:42.155154Z",
     "start_time": "2025-10-12T03:52:41.417487Z"
    }
   },
   "cell_type": "code",
   "source": "client.download_file(Bucket='123-test1-my-bucket123', Key='test-upload-file',Filename='my_local_download.txt')",
   "id": "2ed4c399216415d2",
   "outputs": [],
   "execution_count": 16
  },
  {
   "metadata": {
    "ExecuteTime": {
     "end_time": "2025-10-12T04:16:46.663009Z",
     "start_time": "2025-10-12T04:16:46.651931Z"
    }
   },
   "cell_type": "code",
   "source": [
    "with open('my_local_download.txt') as f:\n",
    "    print(f.read())"
   ],
   "id": "fdc2a282b64c0d8",
   "outputs": [
    {
     "name": "stdout",
     "output_type": "stream",
     "text": [
      "This is a test file for upload.\n"
     ]
    }
   ],
   "execution_count": 29
  },
  {
   "metadata": {
    "ExecuteTime": {
     "end_time": "2025-10-12T03:54:40.727304Z",
     "start_time": "2025-10-12T03:54:40.239335Z"
    }
   },
   "cell_type": "code",
   "source": "client.delete_object(Bucket='123-test1-my-bucket123', Key='test-upload-file')",
   "id": "b41b2f5221f902e3",
   "outputs": [
    {
     "data": {
      "text/plain": [
       "{'ResponseMetadata': {'RequestId': '49Q5RMS4YSXSN6C9',\n",
       "  'HostId': 'Oy9TKziYYozqckh1VugM5AVD0ubdZAJgrUv86QRVtS+2WXFaA+UKol3Em/8T6A/t/ZIlCGbqRqs=',\n",
       "  'HTTPStatusCode': 204,\n",
       "  'HTTPHeaders': {'x-amz-id-2': 'Oy9TKziYYozqckh1VugM5AVD0ubdZAJgrUv86QRVtS+2WXFaA+UKol3Em/8T6A/t/ZIlCGbqRqs=',\n",
       "   'x-amz-request-id': '49Q5RMS4YSXSN6C9',\n",
       "   'date': 'Sun, 12 Oct 2025 03:54:41 GMT',\n",
       "   'server': 'AmazonS3'},\n",
       "  'RetryAttempts': 0}}"
      ]
     },
     "execution_count": 18,
     "metadata": {},
     "output_type": "execute_result"
    }
   ],
   "execution_count": 18
  },
  {
   "metadata": {
    "ExecuteTime": {
     "end_time": "2025-10-12T04:05:30.543591Z",
     "start_time": "2025-10-12T04:05:30.026069Z"
    }
   },
   "cell_type": "code",
   "source": "client.list_buckets()",
   "id": "35f734e940da7e7e",
   "outputs": [
    {
     "data": {
      "text/plain": [
       "{'ResponseMetadata': {'RequestId': 'QMCRBFC8TCQNK4P9',\n",
       "  'HostId': 'Y0H8DsxmWQL+Eb7fO4EEOe2ZQNNgsntxQSSuyKLzzGzTZBNTWj34t+CTPDPYXplFJvGcOqPhUgyLf+YFmo9Eew1d6Jo8XMQjRtvo8w8tjEU=',\n",
       "  'HTTPStatusCode': 200,\n",
       "  'HTTPHeaders': {'x-amz-id-2': 'Y0H8DsxmWQL+Eb7fO4EEOe2ZQNNgsntxQSSuyKLzzGzTZBNTWj34t+CTPDPYXplFJvGcOqPhUgyLf+YFmo9Eew1d6Jo8XMQjRtvo8w8tjEU=',\n",
       "   'x-amz-request-id': 'QMCRBFC8TCQNK4P9',\n",
       "   'date': 'Sun, 12 Oct 2025 04:05:31 GMT',\n",
       "   'content-type': 'application/xml',\n",
       "   'transfer-encoding': 'chunked',\n",
       "   'server': 'AmazonS3'},\n",
       "  'RetryAttempts': 0},\n",
       " 'Buckets': [{'Name': '123-test1-my-bucket123',\n",
       "   'CreationDate': datetime.datetime(2025, 10, 12, 3, 17, 37, tzinfo=tzutc())}],\n",
       " 'Owner': {'DisplayName': 'zhang.ke8',\n",
       "  'ID': 'd051d39a72e64f5976ae4358b0573b3951689a18484d2445762d9d83a0b25a84'}}"
      ]
     },
     "execution_count": 19,
     "metadata": {},
     "output_type": "execute_result"
    }
   ],
   "execution_count": 19
  },
  {
   "metadata": {
    "ExecuteTime": {
     "end_time": "2025-10-12T04:07:45.409437Z",
     "start_time": "2025-10-12T04:07:44.812106Z"
    }
   },
   "cell_type": "code",
   "source": "list(s3.buckets.all())",
   "id": "ee623e4fd97d9486",
   "outputs": [
    {
     "data": {
      "text/plain": [
       "[s3.Bucket(name='123-test1-my-bucket123')]"
      ]
     },
     "execution_count": 21,
     "metadata": {},
     "output_type": "execute_result"
    }
   ],
   "execution_count": 21
  },
  {
   "metadata": {
    "ExecuteTime": {
     "end_time": "2025-10-12T04:09:13.852398Z",
     "start_time": "2025-10-12T04:09:13.799310Z"
    }
   },
   "cell_type": "code",
   "source": "bucket = s3.Bucket('123-test1-my-bucket123')",
   "id": "7a4d252103b8fa56",
   "outputs": [],
   "execution_count": 22
  },
  {
   "metadata": {
    "ExecuteTime": {
     "end_time": "2025-10-12T04:11:36.025921Z",
     "start_time": "2025-10-12T04:11:35.327308Z"
    }
   },
   "cell_type": "code",
   "source": "bucket.upload_file(Filename='myfile.txt',Key='another-upload')",
   "id": "b1fd54d3c1587769",
   "outputs": [],
   "execution_count": 23
  },
  {
   "metadata": {
    "ExecuteTime": {
     "end_time": "2025-10-12T04:12:46.166246Z",
     "start_time": "2025-10-12T04:12:45.748067Z"
    }
   },
   "cell_type": "code",
   "source": "list(bucket.objects.all())",
   "id": "d77124a258b14d6a",
   "outputs": [
    {
     "data": {
      "text/plain": [
       "[s3.ObjectSummary(bucket_name='123-test1-my-bucket123', key='another-upload')]"
      ]
     },
     "execution_count": 26,
     "metadata": {},
     "output_type": "execute_result"
    }
   ],
   "execution_count": 26
  },
  {
   "metadata": {
    "ExecuteTime": {
     "end_time": "2025-10-12T04:16:08.437023Z",
     "start_time": "2025-10-12T04:16:07.784122Z"
    }
   },
   "cell_type": "code",
   "source": "bucket.download_file(Filename='some_new_download.txt',Key='another-upload')",
   "id": "b8817df6c8401840",
   "outputs": [],
   "execution_count": 28
  },
  {
   "metadata": {
    "ExecuteTime": {
     "end_time": "2025-10-12T04:18:15.635609Z",
     "start_time": "2025-10-12T04:18:15.626020Z"
    }
   },
   "cell_type": "code",
   "source": "bucket.objects.filter(Prefix='asdfd')",
   "id": "76235cd7b38c441c",
   "outputs": [
    {
     "data": {
      "text/plain": [
       "s3.Bucket.objectsCollection(s3.Bucket(name='123-test1-my-bucket123'), s3.ObjectSummary)"
      ]
     },
     "execution_count": 30,
     "metadata": {},
     "output_type": "execute_result"
    }
   ],
   "execution_count": 30
  },
  {
   "metadata": {
    "ExecuteTime": {
     "end_time": "2025-10-12T04:18:34.071508Z",
     "start_time": "2025-10-12T04:18:33.473857Z"
    }
   },
   "cell_type": "code",
   "source": "list(bucket.objects.filter(Prefix='asdfd'))",
   "id": "db4229cb8c191bbf",
   "outputs": [
    {
     "data": {
      "text/plain": [
       "[]"
      ]
     },
     "execution_count": 31,
     "metadata": {},
     "output_type": "execute_result"
    }
   ],
   "execution_count": 31
  },
  {
   "metadata": {},
   "cell_type": "code",
   "outputs": [],
   "execution_count": null,
   "source": "z",
   "id": "f88b4b8621963d1c"
  }
 ],
 "metadata": {
  "kernelspec": {
   "display_name": "Python 3",
   "language": "python",
   "name": "python3"
  },
  "language_info": {
   "codemirror_mode": {
    "name": "ipython",
    "version": 2
   },
   "file_extension": ".py",
   "mimetype": "text/x-python",
   "name": "python",
   "nbconvert_exporter": "python",
   "pygments_lexer": "ipython2",
   "version": "2.7.6"
  }
 },
 "nbformat": 4,
 "nbformat_minor": 5
}
