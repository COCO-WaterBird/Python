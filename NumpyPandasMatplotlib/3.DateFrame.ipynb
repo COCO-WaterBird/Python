{
 "cells": [
  {
   "cell_type": "code",
   "id": "initial_id",
   "metadata": {
    "collapsed": true,
    "ExecuteTime": {
     "end_time": "2025-09-19T00:52:39.253320Z",
     "start_time": "2025-09-19T00:52:39.194738Z"
    }
   },
   "source": [
    "'''\n",
    "案例01：学生成绩分析\n",
    "场景：某班级的学生成绩数据如下，完成以下任务：\n",
    "1. 计算每位学生的总分和平均分。\n",
    "2. 找出数学成绩高于90分或英语高于85分的学生。\n",
    "3. 按总分从高到低排序，并输出前三名学生。\n",
    "'''\n",
    "import pandas as pd\n",
    "data = {\n",
    "    '姓名': ['张三', '李四', '王五', '赵六', '钱七'],\n",
    "    '数学': [85, 92, 78, 88, 95],\n",
    "    '英语': [90, 88, 85, 92, 80],\n",
    "    '物理': [75, 80, 88, 85, 90]\n",
    "}\n",
    "scores = pd.DataFrame(data)\n",
    "\n",
    "\n",
    "# 1. 计算每位学生的总分和平均分。\n",
    "scores['总分'] = scores[['数学','英语','物理']].sum(axis=1) #默认是竖着,如果想横着计算需要加axis=1\n",
    "scores['平均分'] = scores['总分']/3\n",
    "scores['平均分2'] = scores[['数学','英语','物理']].mean(axis=1) \n",
    "scores\n",
    "# 2. 找出数学成绩高于90分或英语高于85分的学生。\n",
    "scores[(scores['数学']>90) | (scores['英语']>85)]\n",
    "# 3. 按总分从高到低排序，并输出前三名学生。\n",
    "r1 = scores.sort_values('总分',ascending=False).head(3)\n",
    "r2 = scores.nlargest(3,columns=['总分'])\n",
    "print(r1)\n",
    "print(r2)"
   ],
   "outputs": [
    {
     "name": "stdout",
     "output_type": "stream",
     "text": [
      "   姓名  数学  英语  物理   总分        平均分       平均分2\n",
      "3  赵六  88  92  85  265  88.333333  88.333333\n",
      "4  钱七  95  80  90  265  88.333333  88.333333\n",
      "1  李四  92  88  80  260  86.666667  86.666667\n",
      "   姓名  数学  英语  物理   总分        平均分       平均分2\n",
      "3  赵六  88  92  85  265  88.333333  88.333333\n",
      "4  钱七  95  80  90  265  88.333333  88.333333\n",
      "1  李四  92  88  80  260  86.666667  86.666667\n"
     ]
    }
   ],
   "execution_count": 15
  },
  {
   "metadata": {
    "ExecuteTime": {
     "end_time": "2025-09-19T00:56:52.921124Z",
     "start_time": "2025-09-19T00:56:52.887351Z"
    }
   },
   "cell_type": "code",
   "source": [
    "\n",
    "'''\n",
    "案例02：销售数据分析\n",
    "场景：某公司销售数据如下，请完成以下任务：\n",
    "1. 计算每种产品的总销售额（销售额 = 单价 × 销量）。\n",
    "2. 找出销售额最高的产品。\n",
    "3. 按销售额从高到低排序，并输出所有产品信息。\n",
    "'''\n",
    "\n",
    "import pandas as pd\n",
    "\n",
    "data = {\n",
    "    '产品名称': ['A', 'B', 'C', 'D'],\n",
    "    '单价': [100, 150, 200, 120],\n",
    "    '销量': [50, 30, 20, 40]\n",
    "}\n",
    "\n",
    "df = pd.DataFrame(data)\n",
    "df['总销售额'] = df['单价']*df['销量']\n",
    "df.nlargest(1,columns=['总销售额'])\n",
    "df.sort_values('总销售额',ascending=False)\n"
   ],
   "id": "777eb53291204df1",
   "outputs": [
    {
     "data": {
      "text/plain": [
       "  产品名称   单价  销量  总销售额\n",
       "0    A  100  50  5000\n",
       "3    D  120  40  4800\n",
       "1    B  150  30  4500\n",
       "2    C  200  20  4000"
      ],
      "text/html": [
       "<div>\n",
       "<style scoped>\n",
       "    .dataframe tbody tr th:only-of-type {\n",
       "        vertical-align: middle;\n",
       "    }\n",
       "\n",
       "    .dataframe tbody tr th {\n",
       "        vertical-align: top;\n",
       "    }\n",
       "\n",
       "    .dataframe thead th {\n",
       "        text-align: right;\n",
       "    }\n",
       "</style>\n",
       "<table border=\"1\" class=\"dataframe\">\n",
       "  <thead>\n",
       "    <tr style=\"text-align: right;\">\n",
       "      <th></th>\n",
       "      <th>产品名称</th>\n",
       "      <th>单价</th>\n",
       "      <th>销量</th>\n",
       "      <th>总销售额</th>\n",
       "    </tr>\n",
       "  </thead>\n",
       "  <tbody>\n",
       "    <tr>\n",
       "      <th>0</th>\n",
       "      <td>A</td>\n",
       "      <td>100</td>\n",
       "      <td>50</td>\n",
       "      <td>5000</td>\n",
       "    </tr>\n",
       "    <tr>\n",
       "      <th>3</th>\n",
       "      <td>D</td>\n",
       "      <td>120</td>\n",
       "      <td>40</td>\n",
       "      <td>4800</td>\n",
       "    </tr>\n",
       "    <tr>\n",
       "      <th>1</th>\n",
       "      <td>B</td>\n",
       "      <td>150</td>\n",
       "      <td>30</td>\n",
       "      <td>4500</td>\n",
       "    </tr>\n",
       "    <tr>\n",
       "      <th>2</th>\n",
       "      <td>C</td>\n",
       "      <td>200</td>\n",
       "      <td>20</td>\n",
       "      <td>4000</td>\n",
       "    </tr>\n",
       "  </tbody>\n",
       "</table>\n",
       "</div>"
      ]
     },
     "execution_count": 18,
     "metadata": {},
     "output_type": "execute_result"
    }
   ],
   "execution_count": 18
  },
  {
   "metadata": {
    "ExecuteTime": {
     "end_time": "2025-09-19T01:02:46.303911Z",
     "start_time": "2025-09-19T01:02:46.253584Z"
    }
   },
   "cell_type": "code",
   "source": [
    "'''\n",
    "1. 计算每位用户的总消费金额（总金额 = 商品单价 × 购买数量）\n",
    "2. 找出消费金额最高的用户，并输出所有信息\n",
    "3. 计算所有用户的平均消费金额（保留 2 位小数）\n",
    "4. 统计“电子产品”的总购买数量\n",
    "'''\n",
    "import pandas as pd\n",
    "\n",
    "data = {\n",
    "    '用户ID': [101, 102, 103, 104, 105],\n",
    "    '用户名': ['Alice', 'Bob', 'Charlie', 'David', 'Eve'],\n",
    "    '商品类别': ['电子产品', '服饰', '电子产品', '家居', '服饰'],\n",
    "    '商品单价': [1200, 300, 800, 150, 200],\n",
    "    '购买数量': [1, 3, 2, 5, 4]\n",
    "}\n",
    "\n",
    "df = pd.DataFrame(data)\n",
    "df['总消费金额'] = df['商品单价']*df['购买数量']\n",
    "df.nlargest(1,columns=['总消费金额'])\n",
    "df['总消费金额'].mean()\n",
    "df[df['商品类别'] == '电子产品']['购买数量'].sum()\n",
    "df"
   ],
   "id": "1af340cf4cc659b9",
   "outputs": [
    {
     "data": {
      "text/plain": [
       "   用户ID      用户名  商品类别  商品单价  购买数量  总消费金额\n",
       "0   101    Alice  电子产品  1200     1   1200\n",
       "1   102      Bob    服饰   300     3    900\n",
       "2   103  Charlie  电子产品   800     2   1600\n",
       "3   104    David    家居   150     5    750\n",
       "4   105      Eve    服饰   200     4    800"
      ],
      "text/html": [
       "<div>\n",
       "<style scoped>\n",
       "    .dataframe tbody tr th:only-of-type {\n",
       "        vertical-align: middle;\n",
       "    }\n",
       "\n",
       "    .dataframe tbody tr th {\n",
       "        vertical-align: top;\n",
       "    }\n",
       "\n",
       "    .dataframe thead th {\n",
       "        text-align: right;\n",
       "    }\n",
       "</style>\n",
       "<table border=\"1\" class=\"dataframe\">\n",
       "  <thead>\n",
       "    <tr style=\"text-align: right;\">\n",
       "      <th></th>\n",
       "      <th>用户ID</th>\n",
       "      <th>用户名</th>\n",
       "      <th>商品类别</th>\n",
       "      <th>商品单价</th>\n",
       "      <th>购买数量</th>\n",
       "      <th>总消费金额</th>\n",
       "    </tr>\n",
       "  </thead>\n",
       "  <tbody>\n",
       "    <tr>\n",
       "      <th>0</th>\n",
       "      <td>101</td>\n",
       "      <td>Alice</td>\n",
       "      <td>电子产品</td>\n",
       "      <td>1200</td>\n",
       "      <td>1</td>\n",
       "      <td>1200</td>\n",
       "    </tr>\n",
       "    <tr>\n",
       "      <th>1</th>\n",
       "      <td>102</td>\n",
       "      <td>Bob</td>\n",
       "      <td>服饰</td>\n",
       "      <td>300</td>\n",
       "      <td>3</td>\n",
       "      <td>900</td>\n",
       "    </tr>\n",
       "    <tr>\n",
       "      <th>2</th>\n",
       "      <td>103</td>\n",
       "      <td>Charlie</td>\n",
       "      <td>电子产品</td>\n",
       "      <td>800</td>\n",
       "      <td>2</td>\n",
       "      <td>1600</td>\n",
       "    </tr>\n",
       "    <tr>\n",
       "      <th>3</th>\n",
       "      <td>104</td>\n",
       "      <td>David</td>\n",
       "      <td>家居</td>\n",
       "      <td>150</td>\n",
       "      <td>5</td>\n",
       "      <td>750</td>\n",
       "    </tr>\n",
       "    <tr>\n",
       "      <th>4</th>\n",
       "      <td>105</td>\n",
       "      <td>Eve</td>\n",
       "      <td>服饰</td>\n",
       "      <td>200</td>\n",
       "      <td>4</td>\n",
       "      <td>800</td>\n",
       "    </tr>\n",
       "  </tbody>\n",
       "</table>\n",
       "</div>"
      ]
     },
     "execution_count": 22,
     "metadata": {},
     "output_type": "execute_result"
    }
   ],
   "execution_count": 22
  },
  {
   "metadata": {},
   "cell_type": "code",
   "outputs": [],
   "execution_count": null,
   "source": "",
   "id": "c6e7e601e502502e"
  }
 ],
 "metadata": {
  "kernelspec": {
   "display_name": "Python 3",
   "language": "python",
   "name": "python3"
  },
  "language_info": {
   "codemirror_mode": {
    "name": "ipython",
    "version": 2
   },
   "file_extension": ".py",
   "mimetype": "text/x-python",
   "name": "python",
   "nbconvert_exporter": "python",
   "pygments_lexer": "ipython2",
   "version": "2.7.6"
  }
 },
 "nbformat": 4,
 "nbformat_minor": 5
}
