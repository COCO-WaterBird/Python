{
 "cells": [
  {
   "cell_type": "code",
   "execution_count": 1,
   "id": "bbdec884-e79a-4d82-8052-944277983c34",
   "metadata": {},
   "outputs": [
    {
     "name": "stdout",
     "output_type": "stream",
     "text": [
      "Hello World\n"
     ]
    }
   ],
   "source": [
    "print('Hello World')"
   ]
  },
  {
   "cell_type": "markdown",
   "id": "d70afed2-3b5a-434c-b877-fbf7519f0bf4",
   "metadata": {},
   "source": [
    "print('a'*5)\n",
    "print(2025)"
   ]
  },
  {
   "cell_type": "markdown",
   "id": "612ead34-b4b4-4276-b9a5-ba193415cac9",
   "metadata": {},
   "source": [
    "##变量的赋值"
   ]
  },
  {
   "cell_type": "code",
   "execution_count": null,
   "id": "ead4bc2a-f041-443c-b856-2b39014d457a",
   "metadata": {},
   "outputs": [],
   "source": [
    "a = 5 #数字的赋值"
   ]
  },
  {
   "cell_type": "markdown",
   "id": "a060ee0e-3dc9-47ff-b727-b38bc0c23b85",
   "metadata": {},
   "source": [
    "#变量的打印"
   ]
  },
  {
   "cell_type": "code",
   "execution_count": null,
   "id": "d6a80246-4947-4e5a-8251-4b09ab4fd183",
   "metadata": {},
   "outputs": [],
   "source": [
    "print"
   ]
  }
 ],
 "metadata": {
  "kernelspec": {
   "display_name": "Python [conda env:base] *",
   "language": "python",
   "name": "conda-base-py"
  },
  "language_info": {
   "codemirror_mode": {
    "name": "ipython",
    "version": 3
   },
   "file_extension": ".py",
   "mimetype": "text/x-python",
   "name": "python",
   "nbconvert_exporter": "python",
   "pygments_lexer": "ipython3",
   "version": "3.13.5"
  }
 },
 "nbformat": 4,
 "nbformat_minor": 5
}
