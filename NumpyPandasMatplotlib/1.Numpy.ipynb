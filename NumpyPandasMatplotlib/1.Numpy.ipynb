{
 "cells": [
  {
   "metadata": {},
   "cell_type": "markdown",
   "source": [
    "# Chapter 1. Ndarray\n",
    "\n",
    "## 1.ndarray 的特性\n",
    "\n",
    "### 多维性"
   ],
   "id": "8db296c13a14763f"
  },
  {
   "metadata": {
    "ExecuteTime": {
     "end_time": "2025-08-28T21:35:10.400930Z",
     "start_time": "2025-08-28T21:35:10.393651Z"
    }
   },
   "cell_type": "code",
   "source": [
    "import numpy as np\n",
    "arr = np.array(5) #创建0维的ndarray数组"
   ],
   "id": "48b2a04d627d04ef",
   "outputs": [],
   "execution_count": 2
  },
  {
   "metadata": {
    "ExecuteTime": {
     "end_time": "2025-08-28T21:41:40.851403Z",
     "start_time": "2025-08-28T21:41:40.846001Z"
    }
   },
   "cell_type": "code",
   "source": [
    "print(arr)\n",
    "print('arr的维度',arr.ndim)#数组的维度 number of dimensions\n"
   ],
   "id": "42a56b6339711ab2",
   "outputs": [
    {
     "name": "stdout",
     "output_type": "stream",
     "text": [
      "5\n",
      "arr的维度 0\n"
     ]
    }
   ],
   "execution_count": 3
  },
  {
   "metadata": {
    "ExecuteTime": {
     "end_time": "2025-08-28T21:42:42.162280Z",
     "start_time": "2025-08-28T21:42:42.143181Z"
    }
   },
   "cell_type": "code",
   "source": [
    "arr = np.array([1,2,3])\n",
    "print(arr)\n",
    "print('arr的维度',arr.ndim)"
   ],
   "id": "af24b9a214860180",
   "outputs": [
    {
     "name": "stdout",
     "output_type": "stream",
     "text": [
      "[1 2 3]\n",
      "arr的维度 1\n"
     ]
    }
   ],
   "execution_count": 4
  },
  {
   "metadata": {
    "ExecuteTime": {
     "end_time": "2025-08-28T21:43:45.793911Z",
     "start_time": "2025-08-28T21:43:45.789224Z"
    }
   },
   "cell_type": "code",
   "source": [
    "arr = np.array([[1,2,3],[4,5,6]])\n",
    "print(arr)\n",
    "print('arr的维度',arr.ndim)"
   ],
   "id": "1e621eacfad1727e",
   "outputs": [
    {
     "name": "stdout",
     "output_type": "stream",
     "text": [
      "[[1 2 3]\n",
      " [4 5 6]]\n",
      "arr的维度 2\n"
     ]
    }
   ],
   "execution_count": 5
  },
  {
   "metadata": {},
   "cell_type": "markdown",
   "source": "### 同质性",
   "id": "2826dd1ff6d74ded"
  },
  {
   "metadata": {
    "ExecuteTime": {
     "end_time": "2025-08-28T21:47:18.003433Z",
     "start_time": "2025-08-28T21:47:17.999283Z"
    }
   },
   "cell_type": "code",
   "source": [
    "arr = np.array([1,'hello'])  #1变成了字符串,自动完成了数据转换\n",
    "print(arr)\n",
    "print('arr的维度',arr.ndim)"
   ],
   "id": "5c0ed6fb8968d239",
   "outputs": [
    {
     "name": "stdout",
     "output_type": "stream",
     "text": [
      "['1' 'hello']\n",
      "arr的维度 1\n"
     ]
    }
   ],
   "execution_count": 7
  },
  {
   "metadata": {
    "ExecuteTime": {
     "end_time": "2025-08-28T21:48:19.841286Z",
     "start_time": "2025-08-28T21:48:19.834228Z"
    }
   },
   "cell_type": "code",
   "source": [
    "arr = np.array([1,2.5])  # 1被加上了点变成了1.0 其中的0省略了\n",
    "print(arr)"
   ],
   "id": "9e25e5b92f430105",
   "outputs": [
    {
     "name": "stdout",
     "output_type": "stream",
     "text": [
      "[1.  2.5]\n"
     ]
    }
   ],
   "execution_count": 8
  },
  {
   "metadata": {},
   "cell_type": "markdown",
   "source": "# 2.ndarray 的属性",
   "id": "e4fca7376b539d92"
  },
  {
   "metadata": {
    "ExecuteTime": {
     "end_time": "2025-08-28T21:53:36.850886Z",
     "start_time": "2025-08-28T21:53:36.830579Z"
    }
   },
   "cell_type": "code",
   "source": [
    "arr = np.array(1)  #1变成了字符串,自动完成了数据转换\n",
    "print(arr)\n",
    "print('数组的形状',arr.shape)"
   ],
   "id": "f2c442da621c6bb1",
   "outputs": [
    {
     "name": "stdout",
     "output_type": "stream",
     "text": [
      "1\n",
      "数组的形状 ()\n"
     ]
    }
   ],
   "execution_count": 9
  },
  {
   "metadata": {
    "ExecuteTime": {
     "end_time": "2025-08-28T21:54:23.273295Z",
     "start_time": "2025-08-28T21:54:23.267207Z"
    }
   },
   "cell_type": "code",
   "source": [
    "arr = np.array([1,2,3])\n",
    "print(arr)\n",
    "print('arr的维度',arr.shape)"
   ],
   "id": "fc85daa76a13e5f3",
   "outputs": [
    {
     "name": "stdout",
     "output_type": "stream",
     "text": [
      "[1 2 3]\n",
      "arr的维度 (3,)\n"
     ]
    }
   ],
   "execution_count": 10
  },
  {
   "metadata": {
    "ExecuteTime": {
     "end_time": "2025-08-28T21:58:47.840870Z",
     "start_time": "2025-08-28T21:58:47.835146Z"
    }
   },
   "cell_type": "code",
   "source": [
    "arr = np.array([1,2,3])\n",
    "print(arr)\n",
    "print('arr的形状',arr.shape)\n",
    "print('arr的维度',arr.ndim)\n",
    "print('元素的个数',arr.size)\n",
    "print('arr的维度',arr.dtype)"
   ],
   "id": "4ca4064e9d0839b1",
   "outputs": [
    {
     "name": "stdout",
     "output_type": "stream",
     "text": [
      "[1 2 3]\n",
      "arr的形状 (3,)\n",
      "arr的维度 1\n",
      "元素的个数 3\n",
      "arr的维度 int64\n"
     ]
    }
   ],
   "execution_count": 13
  },
  {
   "metadata": {
    "ExecuteTime": {
     "end_time": "2025-08-28T21:57:55.524900Z",
     "start_time": "2025-08-28T21:57:55.518786Z"
    }
   },
   "cell_type": "code",
   "source": [
    "arr = np.array([[1,2,3],[4,5,6]])\n",
    "print(arr)\n",
    "print('arr的转置',arr.T)"
   ],
   "id": "980c81865f66554f",
   "outputs": [
    {
     "name": "stdout",
     "output_type": "stream",
     "text": [
      "[[1 2 3]\n",
      " [4 5 6]]\n",
      "arr的转置 [[1 4]\n",
      " [2 5]\n",
      " [3 6]]\n"
     ]
    }
   ],
   "execution_count": 12
  },
  {
   "metadata": {},
   "cell_type": "markdown",
   "source": "# 3.ndarray的创建",
   "id": "cd18cdc775ea7ef0"
  },
  {
   "metadata": {
    "ExecuteTime": {
     "end_time": "2025-08-28T22:08:34.686475Z",
     "start_time": "2025-08-28T22:08:34.679440Z"
    }
   },
   "cell_type": "code",
   "source": [
    "#基础的创建方法\n",
    "list1 = [1,2,3]\n",
    "arr = np.array(list1, dtype=np.float64) #通知指定dtype强制指定类型\n",
    "print(arr.ndim)\n",
    "print(arr)\n"
   ],
   "id": "8064605251fd60ee",
   "outputs": [
    {
     "name": "stdout",
     "output_type": "stream",
     "text": [
      "1\n",
      "[1. 2. 3.]\n"
     ]
    }
   ],
   "execution_count": 14
  },
  {
   "metadata": {
    "ExecuteTime": {
     "end_time": "2025-08-28T22:10:02.522548Z",
     "start_time": "2025-08-28T22:10:02.510584Z"
    }
   },
   "cell_type": "code",
   "source": [
    "#copy\n",
    "arr1 = np.copy(arr) # 元素跟原始的数组相同,但不是同一个\n",
    "print(arr1)\n",
    "arr1[0] = 8\n",
    "print(arr1)\n",
    "print(arr)"
   ],
   "id": "e483bc53f3fffdda",
   "outputs": [
    {
     "name": "stdout",
     "output_type": "stream",
     "text": [
      "[1. 2. 3.]\n",
      "[8. 2. 3.]\n",
      "[1. 2. 3.]\n"
     ]
    }
   ],
   "execution_count": 16
  },
  {
   "metadata": {
    "ExecuteTime": {
     "end_time": "2025-08-28T22:12:14.341134Z",
     "start_time": "2025-08-28T22:12:14.338033Z"
    }
   },
   "cell_type": "code",
   "source": [
    "#预定义形状\n",
    "# 全0 全1 \n",
    "# 全0\n",
    "arr = np.zeros((2,3), dtype=int)\n",
    "print(arr)\n",
    "print(arr.dtype)"
   ],
   "id": "4fe66971b31540fb",
   "outputs": [
    {
     "name": "stdout",
     "output_type": "stream",
     "text": [
      "[[0 0 0]\n",
      " [0 0 0]]\n",
      "int64\n"
     ]
    }
   ],
   "execution_count": 20
  },
  {
   "metadata": {
    "ExecuteTime": {
     "end_time": "2025-08-28T22:12:48.105741Z",
     "start_time": "2025-08-28T22:12:48.103464Z"
    }
   },
   "cell_type": "code",
   "source": [
    "arr = np.zeros((200), dtype=int)\n",
    "print(arr)\n"
   ],
   "id": "e097cc2d8218b045",
   "outputs": [
    {
     "name": "stdout",
     "output_type": "stream",
     "text": [
      "[0 0 0 0 0 0 0 0 0 0 0 0 0 0 0 0 0 0 0 0 0 0 0 0 0 0 0 0 0 0 0 0 0 0 0 0 0\n",
      " 0 0 0 0 0 0 0 0 0 0 0 0 0 0 0 0 0 0 0 0 0 0 0 0 0 0 0 0 0 0 0 0 0 0 0 0 0\n",
      " 0 0 0 0 0 0 0 0 0 0 0 0 0 0 0 0 0 0 0 0 0 0 0 0 0 0 0 0 0 0 0 0 0 0 0 0 0\n",
      " 0 0 0 0 0 0 0 0 0 0 0 0 0 0 0 0 0 0 0 0 0 0 0 0 0 0 0 0 0 0 0 0 0 0 0 0 0\n",
      " 0 0 0 0 0 0 0 0 0 0 0 0 0 0 0 0 0 0 0 0 0 0 0 0 0 0 0 0 0 0 0 0 0 0 0 0 0\n",
      " 0 0 0 0 0 0 0 0 0 0 0 0 0 0 0]\n"
     ]
    }
   ],
   "execution_count": 21
  },
  {
   "metadata": {
    "ExecuteTime": {
     "end_time": "2025-08-28T22:13:13.789593Z",
     "start_time": "2025-08-28T22:13:13.783210Z"
    }
   },
   "cell_type": "code",
   "source": [
    "arr = np.ones((5,8), dtype=int)\n",
    "print(arr)\n"
   ],
   "id": "654d6b9e10fb564",
   "outputs": [
    {
     "name": "stdout",
     "output_type": "stream",
     "text": [
      "[[1 1 1 1 1 1 1 1]\n",
      " [1 1 1 1 1 1 1 1]\n",
      " [1 1 1 1 1 1 1 1]\n",
      " [1 1 1 1 1 1 1 1]\n",
      " [1 1 1 1 1 1 1 1]]\n"
     ]
    }
   ],
   "execution_count": 22
  },
  {
   "metadata": {
    "ExecuteTime": {
     "end_time": "2025-08-28T22:14:04.601009Z",
     "start_time": "2025-08-28T22:14:04.598136Z"
    }
   },
   "cell_type": "code",
   "source": [
    "arr = np.empty((5,3), dtype=int)\n",
    "print(arr)"
   ],
   "id": "e06f6779b78e30ae",
   "outputs": [
    {
     "name": "stdout",
     "output_type": "stream",
     "text": [
      "[[                  0                   0 4601727903846100441]\n",
      " [4587820456862672466 4595745948572889240 4601727903846100441]\n",
      " [4596827656117413458 4600249548200259736 4601727903846100441]\n",
      " [4602288710223143708 4603108665757041778 4601727903846100441]\n",
      " [4605834855372154450 4604753147827630232 4601727903846100441]]\n"
     ]
    }
   ],
   "execution_count": 25
  },
  {
   "metadata": {
    "ExecuteTime": {
     "end_time": "2025-08-28T22:17:19.335097Z",
     "start_time": "2025-08-28T22:17:19.329517Z"
    }
   },
   "cell_type": "code",
   "source": [
    "arr = np.full((3,4), 2025)\n",
    "print(arr)"
   ],
   "id": "f3cb8be04be6d187",
   "outputs": [
    {
     "name": "stdout",
     "output_type": "stream",
     "text": [
      "[[2025 2025 2025 2025]\n",
      " [2025 2025 2025 2025]\n",
      " [2025 2025 2025 2025]]\n"
     ]
    }
   ],
   "execution_count": 26
  },
  {
   "metadata": {
    "ExecuteTime": {
     "end_time": "2025-08-28T22:20:55.315438Z",
     "start_time": "2025-08-28T22:20:55.309587Z"
    }
   },
   "cell_type": "code",
   "source": [
    "arr1 = np.zeros_like(arr)\n",
    "print(arr1)\n",
    "arr1 = np.empty_like(arr)\n",
    "print(arr1)\n",
    "arr1 = np.ones_like(arr)\n",
    "print(arr1)\n",
    "arr1 = np.full_like(arr,2026)\n",
    "print(arr1)"
   ],
   "id": "69ee0d0fb09326a0",
   "outputs": [
    {
     "name": "stdout",
     "output_type": "stream",
     "text": [
      "[[0 0 0 0]\n",
      " [0 0 0 0]\n",
      " [0 0 0 0]]\n",
      "[[0 0 0 0]\n",
      " [0 0 0 0]\n",
      " [0 0 0 0]]\n",
      "[[1 1 1 1]\n",
      " [1 1 1 1]\n",
      " [1 1 1 1]]\n",
      "[[2026 2026 2026 2026]\n",
      " [2026 2026 2026 2026]\n",
      " [2026 2026 2026 2026]]\n"
     ]
    }
   ],
   "execution_count": 28
  },
  {
   "metadata": {},
   "cell_type": "code",
   "outputs": [],
   "execution_count": null,
   "source": "",
   "id": "565a7eecb9ca2532"
  }
 ],
 "metadata": {
  "kernelspec": {
   "display_name": "Python 3",
   "language": "python",
   "name": "python3"
  },
  "language_info": {
   "codemirror_mode": {
    "name": "ipython",
    "version": 2
   },
   "file_extension": ".py",
   "mimetype": "text/x-python",
   "name": "python",
   "nbconvert_exporter": "python",
   "pygments_lexer": "ipython2",
   "version": "2.7.6"
  }
 },
 "nbformat": 4,
 "nbformat_minor": 5
}
