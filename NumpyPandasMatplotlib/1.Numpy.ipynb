{
 "cells": [
  {
   "metadata": {},
   "cell_type": "markdown",
   "source": [
    "# Chapter 1. Ndarray\n",
    "\n",
    "## 1.ndarray 的特性\n",
    "\n",
    "### 多维性"
   ],
   "id": "8db296c13a14763f"
  },
  {
   "metadata": {
    "ExecuteTime": {
     "end_time": "2025-08-28T21:35:10.400930Z",
     "start_time": "2025-08-28T21:35:10.393651Z"
    }
   },
   "cell_type": "code",
   "source": [
    "import numpy as np\n",
    "from numpy import ndarray\n",
    "from pandas.conftest import unit2\n",
    "\n",
    "arr = np.array(5) #创建0维的ndarray数组"
   ],
   "id": "48b2a04d627d04ef",
   "outputs": [],
   "execution_count": 2
  },
  {
   "metadata": {
    "ExecuteTime": {
     "end_time": "2025-08-28T21:41:40.851403Z",
     "start_time": "2025-08-28T21:41:40.846001Z"
    }
   },
   "cell_type": "code",
   "source": [
    "print(arr)\n",
    "print('arr的维度',arr.ndim)#数组的维度 number of dimensions\n"
   ],
   "id": "42a56b6339711ab2",
   "outputs": [
    {
     "name": "stdout",
     "output_type": "stream",
     "text": [
      "5\n",
      "arr的维度 0\n"
     ]
    }
   ],
   "execution_count": 3
  },
  {
   "metadata": {
    "ExecuteTime": {
     "end_time": "2025-08-28T21:42:42.162280Z",
     "start_time": "2025-08-28T21:42:42.143181Z"
    }
   },
   "cell_type": "code",
   "source": [
    "arr = np.array([1,2,3])\n",
    "print(arr)\n",
    "print('arr的维度',arr.ndim)"
   ],
   "id": "af24b9a214860180",
   "outputs": [
    {
     "name": "stdout",
     "output_type": "stream",
     "text": [
      "[1 2 3]\n",
      "arr的维度 1\n"
     ]
    }
   ],
   "execution_count": 4
  },
  {
   "metadata": {
    "ExecuteTime": {
     "end_time": "2025-08-28T21:43:45.793911Z",
     "start_time": "2025-08-28T21:43:45.789224Z"
    }
   },
   "cell_type": "code",
   "source": [
    "arr = np.array([[1,2,3],[4,5,6]])\n",
    "print(arr)\n",
    "print('arr的维度',arr.ndim)"
   ],
   "id": "1e621eacfad1727e",
   "outputs": [
    {
     "name": "stdout",
     "output_type": "stream",
     "text": [
      "[[1 2 3]\n",
      " [4 5 6]]\n",
      "arr的维度 2\n"
     ]
    }
   ],
   "execution_count": 5
  },
  {
   "metadata": {},
   "cell_type": "markdown",
   "source": "### 同质性",
   "id": "2826dd1ff6d74ded"
  },
  {
   "metadata": {
    "ExecuteTime": {
     "end_time": "2025-08-28T21:47:18.003433Z",
     "start_time": "2025-08-28T21:47:17.999283Z"
    }
   },
   "cell_type": "code",
   "source": [
    "arr = np.array([1,'hello'])  #1变成了字符串,自动完成了数据转换\n",
    "print(arr)\n",
    "print('arr的维度',arr.ndim)"
   ],
   "id": "5c0ed6fb8968d239",
   "outputs": [
    {
     "name": "stdout",
     "output_type": "stream",
     "text": [
      "['1' 'hello']\n",
      "arr的维度 1\n"
     ]
    }
   ],
   "execution_count": 7
  },
  {
   "metadata": {
    "ExecuteTime": {
     "end_time": "2025-08-28T21:48:19.841286Z",
     "start_time": "2025-08-28T21:48:19.834228Z"
    }
   },
   "cell_type": "code",
   "source": [
    "arr = np.array([1,2.5])  # 1被加上了点变成了1.0 其中的0省略了\n",
    "print(arr)"
   ],
   "id": "9e25e5b92f430105",
   "outputs": [
    {
     "name": "stdout",
     "output_type": "stream",
     "text": [
      "[1.  2.5]\n"
     ]
    }
   ],
   "execution_count": 8
  },
  {
   "metadata": {},
   "cell_type": "markdown",
   "source": "# 2.ndarray 的属性",
   "id": "e4fca7376b539d92"
  },
  {
   "metadata": {
    "ExecuteTime": {
     "end_time": "2025-08-28T21:53:36.850886Z",
     "start_time": "2025-08-28T21:53:36.830579Z"
    }
   },
   "cell_type": "code",
   "source": [
    "arr = np.array(1)  #1变成了字符串,自动完成了数据转换\n",
    "print(arr)\n",
    "print('数组的形状',arr.shape)"
   ],
   "id": "f2c442da621c6bb1",
   "outputs": [
    {
     "name": "stdout",
     "output_type": "stream",
     "text": [
      "1\n",
      "数组的形状 ()\n"
     ]
    }
   ],
   "execution_count": 9
  },
  {
   "metadata": {
    "ExecuteTime": {
     "end_time": "2025-08-28T21:54:23.273295Z",
     "start_time": "2025-08-28T21:54:23.267207Z"
    }
   },
   "cell_type": "code",
   "source": [
    "arr = np.array([1,2,3])\n",
    "print(arr)\n",
    "print('arr的维度',arr.shape)"
   ],
   "id": "fc85daa76a13e5f3",
   "outputs": [
    {
     "name": "stdout",
     "output_type": "stream",
     "text": [
      "[1 2 3]\n",
      "arr的维度 (3,)\n"
     ]
    }
   ],
   "execution_count": 10
  },
  {
   "metadata": {
    "ExecuteTime": {
     "end_time": "2025-08-28T21:58:47.840870Z",
     "start_time": "2025-08-28T21:58:47.835146Z"
    }
   },
   "cell_type": "code",
   "source": [
    "arr = np.array([1,2,3])\n",
    "print(arr)\n",
    "print('arr的形状',arr.shape)\n",
    "print('arr的维度',arr.ndim)\n",
    "print('元素的个数',arr.size)\n",
    "print('arr的维度',arr.dtype)"
   ],
   "id": "4ca4064e9d0839b1",
   "outputs": [
    {
     "name": "stdout",
     "output_type": "stream",
     "text": [
      "[1 2 3]\n",
      "arr的形状 (3,)\n",
      "arr的维度 1\n",
      "元素的个数 3\n",
      "arr的维度 int64\n"
     ]
    }
   ],
   "execution_count": 13
  },
  {
   "metadata": {
    "ExecuteTime": {
     "end_time": "2025-08-28T21:57:55.524900Z",
     "start_time": "2025-08-28T21:57:55.518786Z"
    }
   },
   "cell_type": "code",
   "source": [
    "arr = np.array([[1,2,3],[4,5,6]])\n",
    "print(arr)\n",
    "print('arr的转置',arr.T)"
   ],
   "id": "980c81865f66554f",
   "outputs": [
    {
     "name": "stdout",
     "output_type": "stream",
     "text": [
      "[[1 2 3]\n",
      " [4 5 6]]\n",
      "arr的转置 [[1 4]\n",
      " [2 5]\n",
      " [3 6]]\n"
     ]
    }
   ],
   "execution_count": 12
  },
  {
   "metadata": {},
   "cell_type": "markdown",
   "source": "# 3.ndarray的创建",
   "id": "cd18cdc775ea7ef0"
  },
  {
   "metadata": {
    "ExecuteTime": {
     "end_time": "2025-08-28T22:08:34.686475Z",
     "start_time": "2025-08-28T22:08:34.679440Z"
    }
   },
   "cell_type": "code",
   "source": [
    "#基础的创建方法\n",
    "list1 = [1,2,3]\n",
    "arr = np.array(list1, dtype=np.float64) #通知指定dtype强制指定类型\n",
    "print(arr.ndim)\n",
    "print(arr)\n"
   ],
   "id": "8064605251fd60ee",
   "outputs": [
    {
     "name": "stdout",
     "output_type": "stream",
     "text": [
      "1\n",
      "[1. 2. 3.]\n"
     ]
    }
   ],
   "execution_count": 14
  },
  {
   "metadata": {
    "ExecuteTime": {
     "end_time": "2025-08-28T22:10:02.522548Z",
     "start_time": "2025-08-28T22:10:02.510584Z"
    }
   },
   "cell_type": "code",
   "source": [
    "#copy\n",
    "arr1 = np.copy(arr) # 元素跟原始的数组相同,但不是同一个\n",
    "print(arr1)\n",
    "arr1[0] = 8\n",
    "print(arr1)\n",
    "print(arr)"
   ],
   "id": "e483bc53f3fffdda",
   "outputs": [
    {
     "name": "stdout",
     "output_type": "stream",
     "text": [
      "[1. 2. 3.]\n",
      "[8. 2. 3.]\n",
      "[1. 2. 3.]\n"
     ]
    }
   ],
   "execution_count": 16
  },
  {
   "metadata": {
    "ExecuteTime": {
     "end_time": "2025-08-28T22:12:14.341134Z",
     "start_time": "2025-08-28T22:12:14.338033Z"
    }
   },
   "cell_type": "code",
   "source": [
    "#预定义形状\n",
    "# 全0 全1 \n",
    "# 全0\n",
    "arr = np.zeros((2,3), dtype=int)\n",
    "print(arr)\n",
    "print(arr.dtype)"
   ],
   "id": "4fe66971b31540fb",
   "outputs": [
    {
     "name": "stdout",
     "output_type": "stream",
     "text": [
      "[[0 0 0]\n",
      " [0 0 0]]\n",
      "int64\n"
     ]
    }
   ],
   "execution_count": 20
  },
  {
   "metadata": {
    "ExecuteTime": {
     "end_time": "2025-08-28T22:12:48.105741Z",
     "start_time": "2025-08-28T22:12:48.103464Z"
    }
   },
   "cell_type": "code",
   "source": [
    "arr = np.zeros((200), dtype=int)\n",
    "print(arr)\n"
   ],
   "id": "e097cc2d8218b045",
   "outputs": [
    {
     "name": "stdout",
     "output_type": "stream",
     "text": [
      "[0 0 0 0 0 0 0 0 0 0 0 0 0 0 0 0 0 0 0 0 0 0 0 0 0 0 0 0 0 0 0 0 0 0 0 0 0\n",
      " 0 0 0 0 0 0 0 0 0 0 0 0 0 0 0 0 0 0 0 0 0 0 0 0 0 0 0 0 0 0 0 0 0 0 0 0 0\n",
      " 0 0 0 0 0 0 0 0 0 0 0 0 0 0 0 0 0 0 0 0 0 0 0 0 0 0 0 0 0 0 0 0 0 0 0 0 0\n",
      " 0 0 0 0 0 0 0 0 0 0 0 0 0 0 0 0 0 0 0 0 0 0 0 0 0 0 0 0 0 0 0 0 0 0 0 0 0\n",
      " 0 0 0 0 0 0 0 0 0 0 0 0 0 0 0 0 0 0 0 0 0 0 0 0 0 0 0 0 0 0 0 0 0 0 0 0 0\n",
      " 0 0 0 0 0 0 0 0 0 0 0 0 0 0 0]\n"
     ]
    }
   ],
   "execution_count": 21
  },
  {
   "metadata": {
    "ExecuteTime": {
     "end_time": "2025-08-28T22:13:13.789593Z",
     "start_time": "2025-08-28T22:13:13.783210Z"
    }
   },
   "cell_type": "code",
   "source": [
    "arr = np.ones((5,8), dtype=int)\n",
    "print(arr)\n"
   ],
   "id": "654d6b9e10fb564",
   "outputs": [
    {
     "name": "stdout",
     "output_type": "stream",
     "text": [
      "[[1 1 1 1 1 1 1 1]\n",
      " [1 1 1 1 1 1 1 1]\n",
      " [1 1 1 1 1 1 1 1]\n",
      " [1 1 1 1 1 1 1 1]\n",
      " [1 1 1 1 1 1 1 1]]\n"
     ]
    }
   ],
   "execution_count": 22
  },
  {
   "metadata": {
    "ExecuteTime": {
     "end_time": "2025-08-28T22:14:04.601009Z",
     "start_time": "2025-08-28T22:14:04.598136Z"
    }
   },
   "cell_type": "code",
   "source": [
    "arr = np.empty((5,3), dtype=int)\n",
    "print(arr)"
   ],
   "id": "e06f6779b78e30ae",
   "outputs": [
    {
     "name": "stdout",
     "output_type": "stream",
     "text": [
      "[[                  0                   0 4601727903846100441]\n",
      " [4587820456862672466 4595745948572889240 4601727903846100441]\n",
      " [4596827656117413458 4600249548200259736 4601727903846100441]\n",
      " [4602288710223143708 4603108665757041778 4601727903846100441]\n",
      " [4605834855372154450 4604753147827630232 4601727903846100441]]\n"
     ]
    }
   ],
   "execution_count": 25
  },
  {
   "metadata": {
    "ExecuteTime": {
     "end_time": "2025-08-28T22:17:19.335097Z",
     "start_time": "2025-08-28T22:17:19.329517Z"
    }
   },
   "cell_type": "code",
   "source": [
    "arr = np.full((3,4), 2025)\n",
    "print(arr)"
   ],
   "id": "f3cb8be04be6d187",
   "outputs": [
    {
     "name": "stdout",
     "output_type": "stream",
     "text": [
      "[[2025 2025 2025 2025]\n",
      " [2025 2025 2025 2025]\n",
      " [2025 2025 2025 2025]]\n"
     ]
    }
   ],
   "execution_count": 26
  },
  {
   "metadata": {
    "ExecuteTime": {
     "end_time": "2025-08-28T22:20:55.315438Z",
     "start_time": "2025-08-28T22:20:55.309587Z"
    }
   },
   "cell_type": "code",
   "source": [
    "arr1 = np.zeros_like(arr)\n",
    "print(arr1)\n",
    "arr1 = np.empty_like(arr)\n",
    "print(arr1)\n",
    "arr1 = np.ones_like(arr)\n",
    "print(arr1)\n",
    "arr1 = np.full_like(arr,2026)\n",
    "print(arr1)"
   ],
   "id": "69ee0d0fb09326a0",
   "outputs": [
    {
     "name": "stdout",
     "output_type": "stream",
     "text": [
      "[[0 0 0 0]\n",
      " [0 0 0 0]\n",
      " [0 0 0 0]]\n",
      "[[0 0 0 0]\n",
      " [0 0 0 0]\n",
      " [0 0 0 0]]\n",
      "[[1 1 1 1]\n",
      " [1 1 1 1]\n",
      " [1 1 1 1]]\n",
      "[[2026 2026 2026 2026]\n",
      " [2026 2026 2026 2026]\n",
      " [2026 2026 2026 2026]]\n"
     ]
    }
   ],
   "execution_count": 28
  },
  {
   "metadata": {
    "ExecuteTime": {
     "end_time": "2025-09-03T17:51:00.485205Z",
     "start_time": "2025-09-03T17:51:00.476044Z"
    }
   },
   "cell_type": "code",
   "source": [
    "# 等差数列\n",
    "arr = np.arange(1,10,1) # start,end,step\n",
    "print(arr)\n",
    "# 等差数列\n",
    "arr = np.arange(2, 11, 2)  # start,end,step\n",
    "print(arr)"
   ],
   "id": "565a7eecb9ca2532",
   "outputs": [
    {
     "name": "stdout",
     "output_type": "stream",
     "text": [
      "[1 2 3 4 5 6 7 8 9]\n",
      "[ 2  4  6  8 10]\n"
     ]
    }
   ],
   "execution_count": 30
  },
  {
   "metadata": {
    "ExecuteTime": {
     "end_time": "2025-09-03T17:53:02.117651Z",
     "start_time": "2025-09-03T17:53:02.109944Z"
    }
   },
   "cell_type": "code",
   "source": [
    "# 等间隔序列\n",
    "app = np.linspace(1,10,5) #要几个数\n",
    "print(app)"
   ],
   "id": "728378121fe13da0",
   "outputs": [
    {
     "name": "stdout",
     "output_type": "stream",
     "text": [
      "[ 1.    3.25  5.5   7.75 10.  ]\n"
     ]
    }
   ],
   "execution_count": 32
  },
  {
   "metadata": {
    "ExecuteTime": {
     "end_time": "2025-09-03T17:56:17.667925Z",
     "start_time": "2025-09-03T17:56:17.664998Z"
    }
   },
   "cell_type": "code",
   "source": [
    "app = np.linspace(0,100,5,dtype = int) #要几个数\n",
    "print(app)\n",
    "arr = np.arange(0, 101, 25)  # start,end,step\n",
    "print(arr)"
   ],
   "id": "b7c6f1638c2e3bec",
   "outputs": [
    {
     "name": "stdout",
     "output_type": "stream",
     "text": [
      "[  0  25  50  75 100]\n",
      "[  0  25  50  75 100]\n"
     ]
    }
   ],
   "execution_count": 36
  },
  {
   "metadata": {
    "ExecuteTime": {
     "end_time": "2025-09-03T17:58:09.557541Z",
     "start_time": "2025-09-03T17:58:09.551799Z"
    }
   },
   "cell_type": "code",
   "source": [
    "# 对数间隔数列\n",
    "arr = np.logspace(0,4,2,base = 2) #base是底,一般默认是10\n",
    "print(arr)"
   ],
   "id": "bfd31e09613886a6",
   "outputs": [
    {
     "name": "stdout",
     "output_type": "stream",
     "text": [
      "[ 1. 16.]\n"
     ]
    }
   ],
   "execution_count": 38
  },
  {
   "metadata": {
    "ExecuteTime": {
     "end_time": "2025-09-03T22:53:45.080096Z",
     "start_time": "2025-09-03T22:53:45.073193Z"
    }
   },
   "cell_type": "code",
   "source": [
    "# 特殊矩阵\n",
    "# 单位矩阵:主对角线上的数字为1,其他的数字为0\n",
    "arr1 = np.eye(3,dtype=int)\n",
    "arr2 = np.eye(3,4,dtype=int)\n",
    "print(arr1)\n",
    "print(arr2)"
   ],
   "id": "1b0d7a4101f03896",
   "outputs": [
    {
     "name": "stdout",
     "output_type": "stream",
     "text": [
      "[[1 0 0]\n",
      " [0 1 0]\n",
      " [0 0 1]]\n",
      "[[1 0 0 0]\n",
      " [0 1 0 0]\n",
      " [0 0 1 0]]\n"
     ]
    }
   ],
   "execution_count": 41
  },
  {
   "metadata": {
    "ExecuteTime": {
     "end_time": "2025-09-03T22:54:50.640511Z",
     "start_time": "2025-09-03T22:54:50.633569Z"
    }
   },
   "cell_type": "code",
   "source": [
    "# 对角矩阵:主对角线上非0,其他的数字为0\n",
    "arr = np.diag([5,1,2,3])\n",
    "print(arr)"
   ],
   "id": "f019fed0858c0c73",
   "outputs": [
    {
     "name": "stdout",
     "output_type": "stream",
     "text": [
      "[[5 0 0 0]\n",
      " [0 1 0 0]\n",
      " [0 0 2 0]\n",
      " [0 0 0 3]]\n"
     ]
    }
   ],
   "execution_count": 42
  },
  {
   "metadata": {
    "ExecuteTime": {
     "end_time": "2025-09-03T22:57:19.290880Z",
     "start_time": "2025-09-03T22:57:19.287397Z"
    }
   },
   "cell_type": "code",
   "source": [
    "# 随机数组的生成\n",
    "# 生成0-1之间的随机浮点数\n",
    "arr = np.random.rand(3,4) #括号里是形状\n",
    "print(arr)"
   ],
   "id": "e2c2e8dc73ad8b88",
   "outputs": [
    {
     "name": "stdout",
     "output_type": "stream",
     "text": [
      "[[0.49451919 0.78121293 0.74082778 0.48707202]\n",
      " [0.62023444 0.7148053  0.4744466  0.54444536]\n",
      " [0.4924031  0.29141942 0.29430468 0.29820088]]\n"
     ]
    }
   ],
   "execution_count": 44
  },
  {
   "metadata": {
    "ExecuteTime": {
     "end_time": "2025-09-03T23:02:29.374227Z",
     "start_time": "2025-09-03T23:02:29.368600Z"
    }
   },
   "cell_type": "code",
   "source": [
    "# 生成指定范围区间的随机浮点数\n",
    "arr = np.random.uniform(3,6,(2,3))\n",
    "print(arr)\n",
    "\n"
   ],
   "id": "e822d79c2766763e",
   "outputs": [
    {
     "name": "stdout",
     "output_type": "stream",
     "text": [
      "[[5.43395124 4.41217251 4.37605251]\n",
      " [5.22050898 3.01722514 4.04596398]]\n"
     ]
    }
   ],
   "execution_count": 45
  },
  {
   "metadata": {
    "ExecuteTime": {
     "end_time": "2025-09-03T23:04:12.111336Z",
     "start_time": "2025-09-03T23:04:12.108449Z"
    }
   },
   "cell_type": "code",
   "source": [
    "# 生成指定范围区间的随机整数\n",
    "arr = np.random.randint(3,30,(2,3))\n",
    "print(arr)\n"
   ],
   "id": "9e9e7ad7ae612012",
   "outputs": [
    {
     "name": "stdout",
     "output_type": "stream",
     "text": [
      "[[15  8 21]\n",
      " [19  7  6]]\n"
     ]
    }
   ],
   "execution_count": 47
  },
  {
   "metadata": {
    "ExecuteTime": {
     "end_time": "2025-09-03T23:07:56.427849Z",
     "start_time": "2025-09-03T23:07:56.422055Z"
    }
   },
   "cell_type": "code",
   "source": [
    "# 生成随机数列(正态分布)\n",
    "# 两边小中间大(基本是-3到3)\n",
    "arr = (np.random.randn(2,3))\n",
    "print(arr)"
   ],
   "id": "4b5569475902cc9f",
   "outputs": [
    {
     "name": "stdout",
     "output_type": "stream",
     "text": [
      "[[-1.22198398 -0.70313376  0.0376234 ]\n",
      " [-1.32652175  0.05596453  0.33854117]]\n"
     ]
    }
   ],
   "execution_count": 49
  },
  {
   "metadata": {
    "ExecuteTime": {
     "end_time": "2025-09-03T23:11:50.032567Z",
     "start_time": "2025-09-03T23:11:50.025716Z"
    }
   },
   "cell_type": "code",
   "source": [
    "# 设置随机种子\n",
    "np.random.seed(20)\n",
    "arr = np.random.randint(1,10,(2,5))\n",
    "print(arr)"
   ],
   "id": "e3d3ab8fb415676b",
   "outputs": [
    {
     "name": "stdout",
     "output_type": "stream",
     "text": [
      "[[4 5 7 8 3]\n",
      " [1 7 9 6 4]]\n"
     ]
    }
   ],
   "execution_count": 50
  },
  {
   "metadata": {},
   "cell_type": "markdown",
   "source": "4.ndarray的数据类型",
   "id": "17ecd9fcf43b5232"
  },
  {
   "metadata": {},
   "cell_type": "markdown",
   "source": [
    "布尔类型 bool\n",
    "整数类型 int uint\n",
    "浮点数 float\n",
    "复数 complex"
   ],
   "id": "15ea31fb0c98f954"
  },
  {
   "metadata": {
    "ExecuteTime": {
     "end_time": "2025-09-09T21:31:02.826492Z",
     "start_time": "2025-09-09T21:31:02.797789Z"
    }
   },
   "cell_type": "code",
   "source": [
    "arr = np.array([1,0,2,0], dtype = np.bool)\n",
    "print(arr)"
   ],
   "id": "bf5944a5738ba526",
   "outputs": [
    {
     "name": "stdout",
     "output_type": "stream",
     "text": [
      "[ True False  True False]\n"
     ]
    }
   ],
   "execution_count": 52
  },
  {
   "metadata": {
    "ExecuteTime": {
     "end_time": "2025-09-09T21:51:01.956058Z",
     "start_time": "2025-09-09T21:51:01.927258Z"
    }
   },
   "cell_type": "code",
   "source": [
    "arr = np.array([1,0,2,0], dtype = np.int8)\n",
    "print(arr)"
   ],
   "id": "312039093d805cce",
   "outputs": [
    {
     "name": "stdout",
     "output_type": "stream",
     "text": [
      "[1 0 2 0]\n"
     ]
    }
   ],
   "execution_count": 54
  },
  {
   "metadata": {},
   "cell_type": "markdown",
   "source": [
    "# 5 ndarray 索引切片\n",
    "\n"
   ],
   "id": "dfc64d7665424a41"
  },
  {
   "metadata": {},
   "cell_type": "markdown",
   "source": "#一维数组的索引与切片",
   "id": "7cbc0a4e8f1ffb6e"
  },
  {
   "metadata": {
    "ExecuteTime": {
     "end_time": "2025-09-09T21:58:10.416110Z",
     "start_time": "2025-09-09T21:58:10.400861Z"
    }
   },
   "cell_type": "code",
   "source": [
    "arr = np.random.randint(1,100,20)\n",
    "print(arr)\n",
    "print(arr[10]) #从0开始\n",
    "print(arr[:]) #取的是全部\n",
    "print(arr[2:5]) # 左包又不包\n",
    "print(arr[(arr>10)&(arr<20)]) 打印出来大于10和小于20的元素"
   ],
   "id": "72972eac801b7f77",
   "outputs": [
    {
     "name": "stdout",
     "output_type": "stream",
     "text": [
      "[83 79 11 34 86 18 41 83 43 61 85 31 37  9 49 20 49 96 54 11]\n",
      "85\n",
      "[83 79 11 34 86 18 41 83 43 61 85 31 37  9 49 20 49 96 54 11]\n",
      "[11 34 86]\n",
      "[11 18 11]\n"
     ]
    }
   ],
   "execution_count": 58
  },
  {
   "metadata": {
    "ExecuteTime": {
     "end_time": "2025-09-09T22:01:32.975639Z",
     "start_time": "2025-09-09T22:01:32.969388Z"
    }
   },
   "cell_type": "code",
   "source": [
    "arr = np.random.randint(1,100,(4,8))\n",
    "print(arr)"
   ],
   "id": "a0536908c47686b0",
   "outputs": [
    {
     "name": "stdout",
     "output_type": "stream",
     "text": [
      "[[42 10 67 16 66 31 89 50]\n",
      " [41 12 70  1 59 87 38 69]\n",
      " [19 10 58 15 36 76 24 30]\n",
      " [61 98  3 20 87 46 86 85]]\n"
     ]
    }
   ],
   "execution_count": 60
  },
  {
   "metadata": {
    "ExecuteTime": {
     "end_time": "2025-09-09T22:05:35.857379Z",
     "start_time": "2025-09-09T22:05:35.852612Z"
    }
   },
   "cell_type": "code",
   "source": [
    "print(arr[1,3])\n",
    "print(arr[1,:])\n",
    "print(arr[1,2:5])\n",
    "print(arr[arr>50])\n",
    "print(arr[2] [arr[2]>50])"
   ],
   "id": "350de9465473721",
   "outputs": [
    {
     "name": "stdout",
     "output_type": "stream",
     "text": [
      "1\n",
      "[41 12 70  1 59 87 38 69]\n",
      "[70  1 59]\n",
      "[67 66 89 70 59 87 69 58 76 61 98 87 86 85]\n",
      "[58 76]\n"
     ]
    }
   ],
   "execution_count": 65
  },
  {
   "metadata": {},
   "cell_type": "markdown",
   "source": "5. ndarray 运算",
   "id": "e78944abb653a996"
  },
  {
   "metadata": {
    "ExecuteTime": {
     "end_time": "2025-09-09T22:20:22.002389Z",
     "start_time": "2025-09-09T22:20:21.962611Z"
    }
   },
   "cell_type": "code",
   "source": [
    "#算术运算\n",
    "a = np.array([1,2,3])\n",
    "b = np.array([4,5,6])\n",
    "print(a+b)\n",
    "print(a-b)\n",
    "print(a*b)\n",
    "print(a/b)"
   ],
   "id": "9db0b19b3300c89",
   "outputs": [
    {
     "name": "stdout",
     "output_type": "stream",
     "text": [
      "[5 7 9]\n",
      "[-3 -3 -3]\n",
      "[ 4 10 18]\n",
      "[0.25 0.4  0.5 ]\n"
     ]
    }
   ],
   "execution_count": 67
  },
  {
   "metadata": {
    "ExecuteTime": {
     "end_time": "2025-09-09T22:22:50.822508Z",
     "start_time": "2025-09-09T22:22:50.817447Z"
    }
   },
   "cell_type": "code",
   "source": [
    "c = [1,2,3]\n",
    "d = [4,5,6]\n",
    "print(c+d)\n",
    "for i in range(len(c)):\n",
    "    d[i] = c[i] + d[i]\n",
    "print(d)"
   ],
   "id": "eb373ebfbe728c26",
   "outputs": [
    {
     "name": "stdout",
     "output_type": "stream",
     "text": [
      "[1, 2, 3, 4, 5, 6]\n",
      "[5, 7, 9]\n"
     ]
    }
   ],
   "execution_count": 70
  },
  {
   "metadata": {
    "ExecuteTime": {
     "end_time": "2025-09-09T22:46:34.730845Z",
     "start_time": "2025-09-09T22:46:34.720564Z"
    }
   },
   "cell_type": "code",
   "source": [
    "a = np.array([[1,2,3],[4,5,6],[7,8,9]])\n",
    "b = np.array([[4,5,6],[7,8,9],[1,2,3]])\n",
    "print(a+b)\n",
    "print(a-b)\n",
    "print(a*b)\n",
    "print(a/b)"
   ],
   "id": "ff800e22447f6e7a",
   "outputs": [
    {
     "name": "stdout",
     "output_type": "stream",
     "text": [
      "[[ 5  7  9]\n",
      " [11 13 15]\n",
      " [ 8 10 12]]\n",
      "[[-3 -3 -3]\n",
      " [-3 -3 -3]\n",
      " [ 6  6  6]]\n",
      "[[ 4 10 18]\n",
      " [28 40 54]\n",
      " [ 7 16 27]]\n",
      "[[0.25       0.4        0.5       ]\n",
      " [0.57142857 0.625      0.66666667]\n",
      " [7.         4.         3.        ]]\n"
     ]
    }
   ],
   "execution_count": 74
  },
  {
   "metadata": {
    "ExecuteTime": {
     "end_time": "2025-09-09T22:46:58.731578Z",
     "start_time": "2025-09-09T22:46:58.712487Z"
    }
   },
   "cell_type": "code",
   "source": "print(a+3)",
   "id": "d60c238492fafae4",
   "outputs": [
    {
     "name": "stdout",
     "output_type": "stream",
     "text": [
      "[[ 4  5  6]\n",
      " [ 7  8  9]\n",
      " [10 11 12]]\n"
     ]
    }
   ],
   "execution_count": 75
  },
  {
   "metadata": {
    "ExecuteTime": {
     "end_time": "2025-09-09T22:54:48.864623Z",
     "start_time": "2025-09-09T22:54:48.854053Z"
    }
   },
   "cell_type": "code",
   "source": [
    "# 广播机制\n",
    "a = np.array([1,2,3])\n",
    "b = np.array([[4],[5],[6]])\n",
    "print(a+b)"
   ],
   "id": "987d6d4543bdca03",
   "outputs": [
    {
     "name": "stdout",
     "output_type": "stream",
     "text": [
      "[[5 6 7]\n",
      " [6 7 8]\n",
      " [7 8 9]]\n"
     ]
    }
   ],
   "execution_count": 78
  },
  {
   "metadata": {},
   "cell_type": "code",
   "outputs": [],
   "execution_count": null,
   "source": "#矩阵运算\n",
   "id": "e3867838a387bffc"
  }
 ],
 "metadata": {
  "kernelspec": {
   "display_name": "Python 3",
   "language": "python",
   "name": "python3"
  },
  "language_info": {
   "codemirror_mode": {
    "name": "ipython",
    "version": 2
   },
   "file_extension": ".py",
   "mimetype": "text/x-python",
   "name": "python",
   "nbconvert_exporter": "python",
   "pygments_lexer": "ipython2",
   "version": "2.7.6"
  }
 },
 "nbformat": 4,
 "nbformat_minor": 5
}
