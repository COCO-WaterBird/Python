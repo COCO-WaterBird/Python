{
 "cells": [
  {
   "cell_type": "code",
   "id": "initial_id",
   "metadata": {
    "collapsed": true,
    "ExecuteTime": {
     "end_time": "2025-09-10T02:08:58.940766Z",
     "start_time": "2025-09-10T02:08:58.928559Z"
    }
   },
   "source": [
    "#1.导入库\n",
    "import pandas as pd\n",
    "import numpy as np\n",
    "import matplotlib.pyplot as plt\n",
    "import seaborn as sns\n",
    "from matplotlib import rcParams\n",
    "rcParams['font.sans-serif'] = ['SimHei']\n",
    "rcParams['font.sans-serif'] = ['STHeiti']"
   ],
   "outputs": [],
   "execution_count": 4
  },
  {
   "metadata": {
    "ExecuteTime": {
     "end_time": "2025-09-10T02:13:53.336314Z",
     "start_time": "2025-09-10T02:13:52.994576Z"
    }
   },
   "cell_type": "code",
   "source": [
    "#2.导入数据\n",
    "df = pd.read_csv('/Users/zhangke/Downloads/Data Analyst/house_sales.csv')"
   ],
   "id": "a295f3c79411b4a9",
   "outputs": [],
   "execution_count": 5
  },
  {
   "metadata": {
    "ExecuteTime": {
     "end_time": "2025-09-10T02:16:30.915228Z",
     "start_time": "2025-09-10T02:16:30.842451Z"
    }
   },
   "cell_type": "code",
   "source": [
    "#3.数据概览\n",
    "print('总记录数',len(df))\n",
    "print('字段数量',len(df.columns))\n",
    "df.head(5)\n",
    "df.info()"
   ],
   "id": "b8b512aef8193c1",
   "outputs": [
    {
     "name": "stdout",
     "output_type": "stream",
     "text": [
      "总记录数 106118\n",
      "字段数量 12\n",
      "<class 'pandas.core.frame.DataFrame'>\n",
      "RangeIndex: 106118 entries, 0 to 106117\n",
      "Data columns (total 12 columns):\n",
      " #   Column      Non-Null Count   Dtype \n",
      "---  ------      --------------   ----- \n",
      " 0   city        106118 non-null  object\n",
      " 1   address     104452 non-null  object\n",
      " 2   area        105324 non-null  object\n",
      " 3   floor       104024 non-null  object\n",
      " 4   name        105564 non-null  object\n",
      " 5   price       105564 non-null  object\n",
      " 6   province    106118 non-null  object\n",
      " 7   rooms       104036 non-null  object\n",
      " 8   toward      105240 non-null  object\n",
      " 9   unit        105564 non-null  object\n",
      " 10  year        57736 non-null   object\n",
      " 11  origin_url  105564 non-null  object\n",
      "dtypes: object(12)\n",
      "memory usage: 9.7+ MB\n"
     ]
    }
   ],
   "execution_count": 8
  },
  {
   "metadata": {
    "ExecuteTime": {
     "end_time": "2025-09-10T02:19:09.596741Z",
     "start_time": "2025-09-10T02:19:09.547043Z"
    }
   },
   "cell_type": "code",
   "source": [
    "# 4.数据清洗\n",
    "df.head(5)\n",
    "#删除无用的数据列\n",
    "df.drop(columns='origin_url',inplace=True)"
   ],
   "id": "64091300c554c9d8",
   "outputs": [],
   "execution_count": 9
  },
  {
   "metadata": {
    "ExecuteTime": {
     "end_time": "2025-09-10T02:22:56.197490Z",
     "start_time": "2025-09-10T02:22:56.108521Z"
    }
   },
   "cell_type": "code",
   "source": [
    "# 检查是否有缺失值\n",
    "df.isna().sum()\n",
    "#删除缺失值\n",
    "df.dropna(inplace=True)"
   ],
   "id": "3433f59fff8d0dc6",
   "outputs": [],
   "execution_count": 12
  },
  {
   "metadata": {
    "ExecuteTime": {
     "end_time": "2025-09-10T02:25:00.034502Z",
     "start_time": "2025-09-10T02:24:59.943806Z"
    }
   },
   "cell_type": "code",
   "source": [
    "#检查是否有重复值\n",
    "df.duplicated().sum()\n",
    "#删除重复值\n",
    "df.drop_duplicates(inplace=True)\n",
    "print(len(df))"
   ],
   "id": "1ebf50853b02d12e",
   "outputs": [
    {
     "name": "stdout",
     "output_type": "stream",
     "text": [
      "28104\n"
     ]
    }
   ],
   "execution_count": 15
  },
  {
   "metadata": {
    "ExecuteTime": {
     "end_time": "2025-09-10T02:30:42.876330Z",
     "start_time": "2025-09-10T02:30:42.855239Z"
    }
   },
   "cell_type": "code",
   "source": [
    "#面积的数据类型转换\n",
    "df['area'] = df['area'].str.replace('㎡','').astype(float)\n",
    "#售价的数据类型转换\n",
    "df['price'] = df['price'].str.replace('万','').astype(float)\n",
    "# 朝向的数据类型转换\n",
    "#df['toward'].value_counts()\n",
    "df['toward'] = df['toward'].astype('category')\n",
    "\n",
    "#5.新数据特征构造\n",
    "#6.问题分析及可视化\n"
   ],
   "id": "50cacdd34e8dc23",
   "outputs": [],
   "execution_count": 20
  },
  {
   "metadata": {
    "ExecuteTime": {
     "end_time": "2025-09-10T02:34:03.330454Z",
     "start_time": "2025-09-10T02:34:03.323206Z"
    }
   },
   "cell_type": "code",
   "source": [
    "\n",
    "df['toward'] = df['toward'].astype('category')"
   ],
   "id": "a2f0f45ab1b3431e",
   "outputs": [],
   "execution_count": 26
  },
  {
   "metadata": {
    "ExecuteTime": {
     "end_time": "2025-09-10T02:34:32.184023Z",
     "start_time": "2025-09-10T02:34:32.141368Z"
    }
   },
   "cell_type": "code",
   "source": [
    "#df.head()\n",
    "df.info()"
   ],
   "id": "7ff5b2ed49f5fa5c",
   "outputs": [
    {
     "name": "stdout",
     "output_type": "stream",
     "text": [
      "<class 'pandas.core.frame.DataFrame'>\n",
      "Index: 28104 entries, 0 to 106088\n",
      "Data columns (total 11 columns):\n",
      " #   Column    Non-Null Count  Dtype   \n",
      "---  ------    --------------  -----   \n",
      " 0   city      28104 non-null  object  \n",
      " 1   address   28104 non-null  object  \n",
      " 2   area      28104 non-null  float64 \n",
      " 3   floor     28104 non-null  object  \n",
      " 4   name      28104 non-null  object  \n",
      " 5   price     28104 non-null  float64 \n",
      " 6   province  28104 non-null  object  \n",
      " 7   rooms     28104 non-null  object  \n",
      " 8   toward    28104 non-null  category\n",
      " 9   unit      28104 non-null  object  \n",
      " 10  year      28104 non-null  object  \n",
      "dtypes: category(1), float64(2), object(8)\n",
      "memory usage: 2.4+ MB\n"
     ]
    }
   ],
   "execution_count": 27
  },
  {
   "metadata": {},
   "cell_type": "code",
   "outputs": [],
   "execution_count": null,
   "source": "",
   "id": "4b42e4561cba10c1"
  }
 ],
 "metadata": {
  "kernelspec": {
   "display_name": "Python 3",
   "language": "python",
   "name": "python3"
  },
  "language_info": {
   "codemirror_mode": {
    "name": "ipython",
    "version": 2
   },
   "file_extension": ".py",
   "mimetype": "text/x-python",
   "name": "python",
   "nbconvert_exporter": "python",
   "pygments_lexer": "ipython2",
   "version": "2.7.6"
  }
 },
 "nbformat": 4,
 "nbformat_minor": 5
}
