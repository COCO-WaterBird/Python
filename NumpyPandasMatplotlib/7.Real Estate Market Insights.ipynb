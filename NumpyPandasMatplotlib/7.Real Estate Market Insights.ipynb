{
 "cells": [
  {
   "cell_type": "code",
   "id": "initial_id",
   "metadata": {
    "collapsed": true,
    "ExecuteTime": {
     "end_time": "2025-09-10T04:55:34.446066Z",
     "start_time": "2025-09-10T04:55:34.442858Z"
    }
   },
   "source": [
    "from operator import truediv\n",
    "\n",
    "#1.导入库\n",
    "import pandas as pd\n",
    "import numpy as np\n",
    "import matplotlib.pyplot as plt\n",
    "import seaborn as sns\n",
    "from matplotlib import rcParams\n",
    "rcParams['font.sans-serif'] = ['SimHei']\n",
    "rcParams['font.sans-serif'] = ['STHeiti']"
   ],
   "outputs": [],
   "execution_count": 3
  },
  {
   "metadata": {
    "ExecuteTime": {
     "end_time": "2025-09-10T04:55:39.199891Z",
     "start_time": "2025-09-10T04:55:38.946685Z"
    }
   },
   "cell_type": "code",
   "source": [
    "#2.导入数据\n",
    "df = pd.read_csv('/Users/zhangke/Downloads/Data Analyst/house_sales.csv')"
   ],
   "id": "a295f3c79411b4a9",
   "outputs": [],
   "execution_count": 4
  },
  {
   "metadata": {
    "ExecuteTime": {
     "end_time": "2025-09-10T04:55:43.737249Z",
     "start_time": "2025-09-10T04:55:43.696458Z"
    }
   },
   "cell_type": "code",
   "source": [
    "#3.数据概览\n",
    "print('总记录数',len(df))\n",
    "print('字段数量',len(df.columns))\n",
    "df.head(5)\n",
    "df.info()"
   ],
   "id": "b8b512aef8193c1",
   "outputs": [
    {
     "name": "stdout",
     "output_type": "stream",
     "text": [
      "总记录数 106118\n",
      "字段数量 12\n",
      "<class 'pandas.core.frame.DataFrame'>\n",
      "RangeIndex: 106118 entries, 0 to 106117\n",
      "Data columns (total 12 columns):\n",
      " #   Column      Non-Null Count   Dtype \n",
      "---  ------      --------------   ----- \n",
      " 0   city        106118 non-null  object\n",
      " 1   address     104452 non-null  object\n",
      " 2   area        105324 non-null  object\n",
      " 3   floor       104024 non-null  object\n",
      " 4   name        105564 non-null  object\n",
      " 5   price       105564 non-null  object\n",
      " 6   province    106118 non-null  object\n",
      " 7   rooms       104036 non-null  object\n",
      " 8   toward      105240 non-null  object\n",
      " 9   unit        105564 non-null  object\n",
      " 10  year        57736 non-null   object\n",
      " 11  origin_url  105564 non-null  object\n",
      "dtypes: object(12)\n",
      "memory usage: 9.7+ MB\n"
     ]
    }
   ],
   "execution_count": 5
  },
  {
   "metadata": {
    "ExecuteTime": {
     "end_time": "2025-09-10T04:55:50.323365Z",
     "start_time": "2025-09-10T04:55:50.305991Z"
    }
   },
   "cell_type": "code",
   "source": [
    "# 4.数据清洗\n",
    "df.head(5)\n",
    "#删除无用的数据列\n",
    "df.drop(columns='origin_url',inplace=True)"
   ],
   "id": "64091300c554c9d8",
   "outputs": [],
   "execution_count": 6
  },
  {
   "metadata": {
    "ExecuteTime": {
     "end_time": "2025-09-10T04:55:53.176320Z",
     "start_time": "2025-09-10T04:55:53.102063Z"
    }
   },
   "cell_type": "code",
   "source": [
    "# 检查是否有缺失值\n",
    "df.isna().sum()\n",
    "#删除缺失值\n",
    "df.dropna(inplace=True)"
   ],
   "id": "3433f59fff8d0dc6",
   "outputs": [],
   "execution_count": 7
  },
  {
   "metadata": {
    "ExecuteTime": {
     "end_time": "2025-09-10T04:55:56.046109Z",
     "start_time": "2025-09-10T04:55:55.972503Z"
    }
   },
   "cell_type": "code",
   "source": [
    "#检查是否有重复值\n",
    "df.duplicated().sum()\n",
    "#删除重复值\n",
    "df.drop_duplicates(inplace=True)\n",
    "print(len(df))"
   ],
   "id": "1ebf50853b02d12e",
   "outputs": [
    {
     "name": "stdout",
     "output_type": "stream",
     "text": [
      "28104\n"
     ]
    }
   ],
   "execution_count": 8
  },
  {
   "metadata": {
    "ExecuteTime": {
     "end_time": "2025-09-10T04:56:04.247743Z",
     "start_time": "2025-09-10T04:56:04.224309Z"
    }
   },
   "cell_type": "code",
   "source": [
    "#面积的数据类型转换\n",
    "df['area'] = df['area'].str.replace('㎡','').astype(float)\n",
    "#售价的数据类型转换\n",
    "df['price'] = df['price'].str.replace('万','').astype(float)\n",
    "# 朝向的数据类型转换\n",
    "#df['toward'].value_counts()\n",
    "df['toward'] = df['toward'].astype('category')\n",
    "df['unit'] = df['unit'].str.replace('元/㎡','').astype(float)\n",
    "# 建造年份的数据类型\n",
    "df['year'] = df['year'].str.replace('年建','').astype(int)"
   ],
   "id": "50cacdd34e8dc23",
   "outputs": [],
   "execution_count": 9
  },
  {
   "metadata": {
    "ExecuteTime": {
     "end_time": "2025-09-10T05:03:36.779879Z",
     "start_time": "2025-09-10T05:03:36.772129Z"
    }
   },
   "cell_type": "code",
   "source": [
    "print(len(df))\n",
    "len(df[(df['area']<600) & (df['area']>20)])"
   ],
   "id": "a2f0f45ab1b3431e",
   "outputs": [
    {
     "name": "stdout",
     "output_type": "stream",
     "text": [
      "28079\n"
     ]
    },
    {
     "data": {
      "text/plain": [
       "28079"
      ]
     },
     "execution_count": 19,
     "metadata": {},
     "output_type": "execute_result"
    }
   ],
   "execution_count": 19
  },
  {
   "metadata": {
    "ExecuteTime": {
     "end_time": "2025-09-10T05:04:00.708217Z",
     "start_time": "2025-09-10T05:04:00.701353Z"
    }
   },
   "cell_type": "code",
   "source": [
    "#异常值的处理\n",
    "#房屋面积的异常处理\n",
    "df = df[(df['area']<600) & (df['area']>20)]\n",
    "\n",
    "#df.info()"
   ],
   "id": "7ff5b2ed49f5fa5c",
   "outputs": [],
   "execution_count": 20
  },
  {
   "metadata": {
    "ExecuteTime": {
     "end_time": "2025-09-10T05:11:26.851013Z",
     "start_time": "2025-09-10T05:11:26.837513Z"
    }
   },
   "cell_type": "code",
   "source": [
    "#房屋售价的异常值处理 IQR\n",
    "Q1 = df['price'].quantile(0.25)\n",
    "Q3 = df['price'].quantile(0.75)\n",
    "IQR = Q3 - Q1\n",
    "low_price = Q1 - 1.5 * IQR\n",
    "high_price = Q3 + 1.5 * IQR\n",
    "len(df[( df['price']<high_price) & (df['price']>low_price) ])"
   ],
   "id": "4b42e4561cba10c1",
   "outputs": [
    {
     "data": {
      "text/plain": [
       "26135"
      ]
     },
     "execution_count": 23,
     "metadata": {},
     "output_type": "execute_result"
    }
   ],
   "execution_count": 23
  },
  {
   "metadata": {
    "ExecuteTime": {
     "end_time": "2025-09-10T19:03:25.352538Z",
     "start_time": "2025-09-10T19:03:25.245176Z"
    }
   },
   "cell_type": "code",
   "source": [
    "#5.新数据特征构造\n",
    "# 地区district\n",
    "df['district'] = df['address'].str.split('-').str[0]"
   ],
   "id": "ee4af2e18013662d",
   "outputs": [],
   "execution_count": 36
  },
  {
   "metadata": {
    "ExecuteTime": {
     "end_time": "2025-09-10T19:21:49.197577Z",
     "start_time": "2025-09-10T19:21:49.174938Z"
    }
   },
   "cell_type": "code",
   "source": [
    "# 楼层的类型floor_type\n",
    "#df.sample(10)\n",
    "df['floor_type'] = df['floor'].str.split('（').str[0].astype('category')\n",
    "def fun1(str1):\n",
    "    if pd.isna(str1):\n",
    "        return '未知'\n",
    "    elif '低' in str1:\n",
    "        return '低楼层'\n",
    "    elif '中' in str1:\n",
    "        return '中楼层'\n",
    "    elif '高' in str1:\n",
    "        return '高楼层'\n",
    "df['floor_type2'] = df['floor'].apply(fun1).astype('category')\n",
    "# 是否是直辖市 zxs\n",
    "# def fun2(str2):\n",
    "#     if str2 in ['北京','上海','天津','重庆']:\n",
    "#         return True\n",
    "#     else:\n",
    "#         return False\n",
    "# df['city'].apply(fun2)\n",
    "\n",
    "df['city'].apply(lambda x:1 if x in ['北京','上海','天津','重庆'] else 0)\n",
    "# 卧室的数量 bedrooms\n",
    "df['bedrooms'] = df['rooms'].str.split('室').str[0].astype(int)\n",
    "# 客厅的数量 living rooms\n",
    "# df['livingrooms'].str.split('室').str[1].str.split('厅').str[0].astype(int) #有点太麻烦了,用正则表达式\n",
    "df['livingrooms'] = df['rooms'].str.extract(r'(\\d+)厅').astype(int)\n",
    "# 楼龄building_age\n",
    "df['building_age'] = 2025 - df['year']\n"
   ],
   "id": "299e7077facfe776",
   "outputs": [],
   "execution_count": 49
  },
  {
   "metadata": {
    "ExecuteTime": {
     "end_time": "2025-09-11T01:58:01.759172Z",
     "start_time": "2025-09-11T01:58:01.640959Z"
    }
   },
   "cell_type": "code",
   "source": [
    "\n",
    "\n",
    "# 价格的分段 price_lables\n",
    "pd.cut(df['price'], bins=4, labels=['低价','中价','高价','豪华'])"
   ],
   "id": "82007ce3d9e3bbaf",
   "outputs": [
    {
     "data": {
      "text/plain": [
       "0         低价\n",
       "2         低价\n",
       "4         低价\n",
       "6         低价\n",
       "8         低价\n",
       "          ..\n",
       "106080    低价\n",
       "106082    低价\n",
       "106084    低价\n",
       "106086    低价\n",
       "106088    低价\n",
       "Name: price, Length: 28079, dtype: category\n",
       "Categories (4, object): ['低价' < '中价' < '高价' < '豪华']"
      ]
     },
     "execution_count": 70,
     "metadata": {},
     "output_type": "execute_result"
    }
   ],
   "execution_count": 70
  },
  {
   "metadata": {
    "ExecuteTime": {
     "end_time": "2025-09-11T00:51:34.392184Z",
     "start_time": "2025-09-11T00:51:34.383595Z"
    }
   },
   "cell_type": "code",
   "source": "df.sample(10)",
   "id": "36c30b960ca3db88",
   "outputs": [
    {
     "data": {
      "text/plain": [
       "       city address    area     floor     name   price province rooms toward  \\\n",
       "15346    招远   牟平中心区   92.00   中层（共6层）     领海公馆    77.5       山东  2室2厅    南北向   \n",
       "71688    罗源     铜盘路   83.00   中层（共7层）   泉塘小区三区   163.0       福建  3室2厅    西南向   \n",
       "29286    百色     龙景区  128.00  高层（共33层）  三祺·城光中心   106.0       广西  3室2厅     南向   \n",
       "79824    仙桃      市区  110.33  高层（共24层）    元泰未来城    68.0       湖北  3室2厅    南北向   \n",
       "15658    玉林    江南公园  126.90  高层（共29层）  华商国际欧洲城    69.0       广西  4室2厅     南向   \n",
       "100730   盐城      亭湖  130.00  中层（共20层）    奥体玫瑰园   139.8       江苏  3室2厅    南北向   \n",
       "372      上海      古北  114.05  低层（共18层）   古北嘉年华庭  1000.0      直辖市  2室2厅     南向   \n",
       "8912     青岛      夏庄   80.00  高层（共11层）    鑫江玫瑰园    98.0       山东  2室1厅    南北向   \n",
       "9184     丽水   城西括苍路   94.00  高层（共20层）    绿城留香园   248.0       浙江  3室2厅    南北向   \n",
       "100936   永登    东部市场   92.00  低层（共30层）    兰新万国港   120.0       甘肃  2室1厅    西南向   \n",
       "\n",
       "           unit  year district floor_type floor_type2  bedrooms  livingrooms  \\\n",
       "15346    8424.0  2016    牟平中心区         中层         中楼层         2            2   \n",
       "71688   19639.0  1998      铜盘路         中层         中楼层         3            2   \n",
       "29286    8281.0  2017      龙景区         高层         高楼层         3            2   \n",
       "79824    6163.0  2015       市区         高层         高楼层         3            2   \n",
       "15658    5437.0  2016     江南公园         高层         高楼层         4            2   \n",
       "100730  10754.0  2015       亭湖         中层         中楼层         3            2   \n",
       "372     87681.0  2005       古北         低层         低楼层         2            2   \n",
       "8912    12250.0  2021       夏庄         高层         高楼层         2            1   \n",
       "9184    26383.0  2019    城西括苍路         高层         高楼层         3            2   \n",
       "100936  13043.0  2013     东部市场         低层         低楼层         2            1   \n",
       "\n",
       "        building_age  \n",
       "15346              9  \n",
       "71688             27  \n",
       "29286              8  \n",
       "79824             10  \n",
       "15658              9  \n",
       "100730            10  \n",
       "372               20  \n",
       "8912               4  \n",
       "9184               6  \n",
       "100936            12  "
      ],
      "text/html": [
       "<div>\n",
       "<style scoped>\n",
       "    .dataframe tbody tr th:only-of-type {\n",
       "        vertical-align: middle;\n",
       "    }\n",
       "\n",
       "    .dataframe tbody tr th {\n",
       "        vertical-align: top;\n",
       "    }\n",
       "\n",
       "    .dataframe thead th {\n",
       "        text-align: right;\n",
       "    }\n",
       "</style>\n",
       "<table border=\"1\" class=\"dataframe\">\n",
       "  <thead>\n",
       "    <tr style=\"text-align: right;\">\n",
       "      <th></th>\n",
       "      <th>city</th>\n",
       "      <th>address</th>\n",
       "      <th>area</th>\n",
       "      <th>floor</th>\n",
       "      <th>name</th>\n",
       "      <th>price</th>\n",
       "      <th>province</th>\n",
       "      <th>rooms</th>\n",
       "      <th>toward</th>\n",
       "      <th>unit</th>\n",
       "      <th>year</th>\n",
       "      <th>district</th>\n",
       "      <th>floor_type</th>\n",
       "      <th>floor_type2</th>\n",
       "      <th>bedrooms</th>\n",
       "      <th>livingrooms</th>\n",
       "      <th>building_age</th>\n",
       "    </tr>\n",
       "  </thead>\n",
       "  <tbody>\n",
       "    <tr>\n",
       "      <th>15346</th>\n",
       "      <td>招远</td>\n",
       "      <td>牟平中心区</td>\n",
       "      <td>92.00</td>\n",
       "      <td>中层（共6层）</td>\n",
       "      <td>领海公馆</td>\n",
       "      <td>77.5</td>\n",
       "      <td>山东</td>\n",
       "      <td>2室2厅</td>\n",
       "      <td>南北向</td>\n",
       "      <td>8424.0</td>\n",
       "      <td>2016</td>\n",
       "      <td>牟平中心区</td>\n",
       "      <td>中层</td>\n",
       "      <td>中楼层</td>\n",
       "      <td>2</td>\n",
       "      <td>2</td>\n",
       "      <td>9</td>\n",
       "    </tr>\n",
       "    <tr>\n",
       "      <th>71688</th>\n",
       "      <td>罗源</td>\n",
       "      <td>铜盘路</td>\n",
       "      <td>83.00</td>\n",
       "      <td>中层（共7层）</td>\n",
       "      <td>泉塘小区三区</td>\n",
       "      <td>163.0</td>\n",
       "      <td>福建</td>\n",
       "      <td>3室2厅</td>\n",
       "      <td>西南向</td>\n",
       "      <td>19639.0</td>\n",
       "      <td>1998</td>\n",
       "      <td>铜盘路</td>\n",
       "      <td>中层</td>\n",
       "      <td>中楼层</td>\n",
       "      <td>3</td>\n",
       "      <td>2</td>\n",
       "      <td>27</td>\n",
       "    </tr>\n",
       "    <tr>\n",
       "      <th>29286</th>\n",
       "      <td>百色</td>\n",
       "      <td>龙景区</td>\n",
       "      <td>128.00</td>\n",
       "      <td>高层（共33层）</td>\n",
       "      <td>三祺·城光中心</td>\n",
       "      <td>106.0</td>\n",
       "      <td>广西</td>\n",
       "      <td>3室2厅</td>\n",
       "      <td>南向</td>\n",
       "      <td>8281.0</td>\n",
       "      <td>2017</td>\n",
       "      <td>龙景区</td>\n",
       "      <td>高层</td>\n",
       "      <td>高楼层</td>\n",
       "      <td>3</td>\n",
       "      <td>2</td>\n",
       "      <td>8</td>\n",
       "    </tr>\n",
       "    <tr>\n",
       "      <th>79824</th>\n",
       "      <td>仙桃</td>\n",
       "      <td>市区</td>\n",
       "      <td>110.33</td>\n",
       "      <td>高层（共24层）</td>\n",
       "      <td>元泰未来城</td>\n",
       "      <td>68.0</td>\n",
       "      <td>湖北</td>\n",
       "      <td>3室2厅</td>\n",
       "      <td>南北向</td>\n",
       "      <td>6163.0</td>\n",
       "      <td>2015</td>\n",
       "      <td>市区</td>\n",
       "      <td>高层</td>\n",
       "      <td>高楼层</td>\n",
       "      <td>3</td>\n",
       "      <td>2</td>\n",
       "      <td>10</td>\n",
       "    </tr>\n",
       "    <tr>\n",
       "      <th>15658</th>\n",
       "      <td>玉林</td>\n",
       "      <td>江南公园</td>\n",
       "      <td>126.90</td>\n",
       "      <td>高层（共29层）</td>\n",
       "      <td>华商国际欧洲城</td>\n",
       "      <td>69.0</td>\n",
       "      <td>广西</td>\n",
       "      <td>4室2厅</td>\n",
       "      <td>南向</td>\n",
       "      <td>5437.0</td>\n",
       "      <td>2016</td>\n",
       "      <td>江南公园</td>\n",
       "      <td>高层</td>\n",
       "      <td>高楼层</td>\n",
       "      <td>4</td>\n",
       "      <td>2</td>\n",
       "      <td>9</td>\n",
       "    </tr>\n",
       "    <tr>\n",
       "      <th>100730</th>\n",
       "      <td>盐城</td>\n",
       "      <td>亭湖</td>\n",
       "      <td>130.00</td>\n",
       "      <td>中层（共20层）</td>\n",
       "      <td>奥体玫瑰园</td>\n",
       "      <td>139.8</td>\n",
       "      <td>江苏</td>\n",
       "      <td>3室2厅</td>\n",
       "      <td>南北向</td>\n",
       "      <td>10754.0</td>\n",
       "      <td>2015</td>\n",
       "      <td>亭湖</td>\n",
       "      <td>中层</td>\n",
       "      <td>中楼层</td>\n",
       "      <td>3</td>\n",
       "      <td>2</td>\n",
       "      <td>10</td>\n",
       "    </tr>\n",
       "    <tr>\n",
       "      <th>372</th>\n",
       "      <td>上海</td>\n",
       "      <td>古北</td>\n",
       "      <td>114.05</td>\n",
       "      <td>低层（共18层）</td>\n",
       "      <td>古北嘉年华庭</td>\n",
       "      <td>1000.0</td>\n",
       "      <td>直辖市</td>\n",
       "      <td>2室2厅</td>\n",
       "      <td>南向</td>\n",
       "      <td>87681.0</td>\n",
       "      <td>2005</td>\n",
       "      <td>古北</td>\n",
       "      <td>低层</td>\n",
       "      <td>低楼层</td>\n",
       "      <td>2</td>\n",
       "      <td>2</td>\n",
       "      <td>20</td>\n",
       "    </tr>\n",
       "    <tr>\n",
       "      <th>8912</th>\n",
       "      <td>青岛</td>\n",
       "      <td>夏庄</td>\n",
       "      <td>80.00</td>\n",
       "      <td>高层（共11层）</td>\n",
       "      <td>鑫江玫瑰园</td>\n",
       "      <td>98.0</td>\n",
       "      <td>山东</td>\n",
       "      <td>2室1厅</td>\n",
       "      <td>南北向</td>\n",
       "      <td>12250.0</td>\n",
       "      <td>2021</td>\n",
       "      <td>夏庄</td>\n",
       "      <td>高层</td>\n",
       "      <td>高楼层</td>\n",
       "      <td>2</td>\n",
       "      <td>1</td>\n",
       "      <td>4</td>\n",
       "    </tr>\n",
       "    <tr>\n",
       "      <th>9184</th>\n",
       "      <td>丽水</td>\n",
       "      <td>城西括苍路</td>\n",
       "      <td>94.00</td>\n",
       "      <td>高层（共20层）</td>\n",
       "      <td>绿城留香园</td>\n",
       "      <td>248.0</td>\n",
       "      <td>浙江</td>\n",
       "      <td>3室2厅</td>\n",
       "      <td>南北向</td>\n",
       "      <td>26383.0</td>\n",
       "      <td>2019</td>\n",
       "      <td>城西括苍路</td>\n",
       "      <td>高层</td>\n",
       "      <td>高楼层</td>\n",
       "      <td>3</td>\n",
       "      <td>2</td>\n",
       "      <td>6</td>\n",
       "    </tr>\n",
       "    <tr>\n",
       "      <th>100936</th>\n",
       "      <td>永登</td>\n",
       "      <td>东部市场</td>\n",
       "      <td>92.00</td>\n",
       "      <td>低层（共30层）</td>\n",
       "      <td>兰新万国港</td>\n",
       "      <td>120.0</td>\n",
       "      <td>甘肃</td>\n",
       "      <td>2室1厅</td>\n",
       "      <td>西南向</td>\n",
       "      <td>13043.0</td>\n",
       "      <td>2013</td>\n",
       "      <td>东部市场</td>\n",
       "      <td>低层</td>\n",
       "      <td>低楼层</td>\n",
       "      <td>2</td>\n",
       "      <td>1</td>\n",
       "      <td>12</td>\n",
       "    </tr>\n",
       "  </tbody>\n",
       "</table>\n",
       "</div>"
      ]
     },
     "execution_count": 69,
     "metadata": {},
     "output_type": "execute_result"
    }
   ],
   "execution_count": 69
  },
  {
   "metadata": {
    "ExecuteTime": {
     "end_time": "2025-09-10T19:22:09.771824Z",
     "start_time": "2025-09-10T19:22:09.740285Z"
    }
   },
   "cell_type": "code",
   "source": [
    "\n",
    "\n",
    "\n",
    "df.info()\n",
    "#6.问题分析及可视化\n"
   ],
   "id": "2d70ff84007a969c",
   "outputs": [
    {
     "name": "stdout",
     "output_type": "stream",
     "text": [
      "<class 'pandas.core.frame.DataFrame'>\n",
      "Index: 28079 entries, 0 to 106088\n",
      "Data columns (total 14 columns):\n",
      " #   Column       Non-Null Count  Dtype   \n",
      "---  ------       --------------  -----   \n",
      " 0   city         28079 non-null  object  \n",
      " 1   address      28079 non-null  object  \n",
      " 2   area         28079 non-null  float64 \n",
      " 3   floor        28079 non-null  object  \n",
      " 4   name         28079 non-null  object  \n",
      " 5   price        28079 non-null  float64 \n",
      " 6   province     28079 non-null  object  \n",
      " 7   rooms        28079 non-null  object  \n",
      " 8   toward       28079 non-null  category\n",
      " 9   unit         28079 non-null  float64 \n",
      " 10  year         28079 non-null  int64   \n",
      " 11  district     28079 non-null  object  \n",
      " 12  floor_type   28079 non-null  category\n",
      " 13  floor_type2  28079 non-null  category\n",
      "dtypes: category(3), float64(3), int64(1), object(7)\n",
      "memory usage: 3.7+ MB\n"
     ]
    }
   ],
   "execution_count": 51
  },
  {
   "metadata": {},
   "cell_type": "code",
   "outputs": [],
   "execution_count": null,
   "source": "",
   "id": "92d7d03b0f6b6eed"
  }
 ],
 "metadata": {
  "kernelspec": {
   "display_name": "Python 3",
   "language": "python",
   "name": "python3"
  },
  "language_info": {
   "codemirror_mode": {
    "name": "ipython",
    "version": 2
   },
   "file_extension": ".py",
   "mimetype": "text/x-python",
   "name": "python",
   "nbconvert_exporter": "python",
   "pygments_lexer": "ipython2",
   "version": "2.7.6"
  }
 },
 "nbformat": 4,
 "nbformat_minor": 5
}
