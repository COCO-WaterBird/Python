{
 "cells": [
  {
   "cell_type": "code",
   "id": "initial_id",
   "metadata": {
    "collapsed": true,
    "ExecuteTime": {
     "end_time": "2025-09-10T04:55:34.446066Z",
     "start_time": "2025-09-10T04:55:34.442858Z"
    }
   },
   "source": [
    "from operator import truediv\n",
    "\n",
    "#1.导入库\n",
    "import pandas as pd\n",
    "import numpy as np\n",
    "import matplotlib.pyplot as plt\n",
    "import seaborn as sns\n",
    "from matplotlib import rcParams\n",
    "rcParams['font.sans-serif'] = ['SimHei']\n",
    "rcParams['font.sans-serif'] = ['STHeiti']"
   ],
   "outputs": [],
   "execution_count": 3
  },
  {
   "metadata": {
    "ExecuteTime": {
     "end_time": "2025-09-10T04:55:39.199891Z",
     "start_time": "2025-09-10T04:55:38.946685Z"
    }
   },
   "cell_type": "code",
   "source": [
    "#2.导入数据\n",
    "df = pd.read_csv('/Users/zhangke/Downloads/Data Analyst/house_sales.csv')"
   ],
   "id": "a295f3c79411b4a9",
   "outputs": [],
   "execution_count": 4
  },
  {
   "metadata": {
    "ExecuteTime": {
     "end_time": "2025-09-10T04:55:43.737249Z",
     "start_time": "2025-09-10T04:55:43.696458Z"
    }
   },
   "cell_type": "code",
   "source": [
    "#3.数据概览\n",
    "print('总记录数',len(df))\n",
    "print('字段数量',len(df.columns))\n",
    "df.head(5)\n",
    "df.info()"
   ],
   "id": "b8b512aef8193c1",
   "outputs": [
    {
     "name": "stdout",
     "output_type": "stream",
     "text": [
      "总记录数 106118\n",
      "字段数量 12\n",
      "<class 'pandas.core.frame.DataFrame'>\n",
      "RangeIndex: 106118 entries, 0 to 106117\n",
      "Data columns (total 12 columns):\n",
      " #   Column      Non-Null Count   Dtype \n",
      "---  ------      --------------   ----- \n",
      " 0   city        106118 non-null  object\n",
      " 1   address     104452 non-null  object\n",
      " 2   area        105324 non-null  object\n",
      " 3   floor       104024 non-null  object\n",
      " 4   name        105564 non-null  object\n",
      " 5   price       105564 non-null  object\n",
      " 6   province    106118 non-null  object\n",
      " 7   rooms       104036 non-null  object\n",
      " 8   toward      105240 non-null  object\n",
      " 9   unit        105564 non-null  object\n",
      " 10  year        57736 non-null   object\n",
      " 11  origin_url  105564 non-null  object\n",
      "dtypes: object(12)\n",
      "memory usage: 9.7+ MB\n"
     ]
    }
   ],
   "execution_count": 5
  },
  {
   "metadata": {
    "ExecuteTime": {
     "end_time": "2025-09-10T04:55:50.323365Z",
     "start_time": "2025-09-10T04:55:50.305991Z"
    }
   },
   "cell_type": "code",
   "source": [
    "# 4.数据清洗\n",
    "df.head(5)\n",
    "#删除无用的数据列\n",
    "df.drop(columns='origin_url',inplace=True)"
   ],
   "id": "64091300c554c9d8",
   "outputs": [],
   "execution_count": 6
  },
  {
   "metadata": {
    "ExecuteTime": {
     "end_time": "2025-09-10T04:55:53.176320Z",
     "start_time": "2025-09-10T04:55:53.102063Z"
    }
   },
   "cell_type": "code",
   "source": [
    "# 检查是否有缺失值\n",
    "df.isna().sum()\n",
    "#删除缺失值\n",
    "df.dropna(inplace=True)"
   ],
   "id": "3433f59fff8d0dc6",
   "outputs": [],
   "execution_count": 7
  },
  {
   "metadata": {
    "ExecuteTime": {
     "end_time": "2025-09-10T04:55:56.046109Z",
     "start_time": "2025-09-10T04:55:55.972503Z"
    }
   },
   "cell_type": "code",
   "source": [
    "#检查是否有重复值\n",
    "df.duplicated().sum()\n",
    "#删除重复值\n",
    "df.drop_duplicates(inplace=True)\n",
    "print(len(df))"
   ],
   "id": "1ebf50853b02d12e",
   "outputs": [
    {
     "name": "stdout",
     "output_type": "stream",
     "text": [
      "28104\n"
     ]
    }
   ],
   "execution_count": 8
  },
  {
   "metadata": {
    "ExecuteTime": {
     "end_time": "2025-09-10T04:56:04.247743Z",
     "start_time": "2025-09-10T04:56:04.224309Z"
    }
   },
   "cell_type": "code",
   "source": [
    "#面积的数据类型转换\n",
    "df['area'] = df['area'].str.replace('㎡','').astype(float)\n",
    "#售价的数据类型转换\n",
    "df['price'] = df['price'].str.replace('万','').astype(float)\n",
    "# 朝向的数据类型转换\n",
    "#df['toward'].value_counts()\n",
    "df['toward'] = df['toward'].astype('category')\n",
    "df['unit'] = df['unit'].str.replace('元/㎡','').astype(float)\n",
    "# 建造年份的数据类型\n",
    "df['year'] = df['year'].str.replace('年建','').astype(int)"
   ],
   "id": "50cacdd34e8dc23",
   "outputs": [],
   "execution_count": 9
  },
  {
   "metadata": {
    "ExecuteTime": {
     "end_time": "2025-09-10T05:03:36.779879Z",
     "start_time": "2025-09-10T05:03:36.772129Z"
    }
   },
   "cell_type": "code",
   "source": [
    "print(len(df))\n",
    "len(df[(df['area']<600) & (df['area']>20)])"
   ],
   "id": "a2f0f45ab1b3431e",
   "outputs": [
    {
     "name": "stdout",
     "output_type": "stream",
     "text": [
      "28079\n"
     ]
    },
    {
     "data": {
      "text/plain": [
       "28079"
      ]
     },
     "execution_count": 19,
     "metadata": {},
     "output_type": "execute_result"
    }
   ],
   "execution_count": 19
  },
  {
   "metadata": {
    "ExecuteTime": {
     "end_time": "2025-09-10T05:04:00.708217Z",
     "start_time": "2025-09-10T05:04:00.701353Z"
    }
   },
   "cell_type": "code",
   "source": [
    "#异常值的处理\n",
    "#房屋面积的异常处理\n",
    "df = df[(df['area']<600) & (df['area']>20)]\n",
    "\n",
    "#df.info()"
   ],
   "id": "7ff5b2ed49f5fa5c",
   "outputs": [],
   "execution_count": 20
  },
  {
   "metadata": {
    "ExecuteTime": {
     "end_time": "2025-09-10T05:11:26.851013Z",
     "start_time": "2025-09-10T05:11:26.837513Z"
    }
   },
   "cell_type": "code",
   "source": [
    "#房屋售价的异常值处理 IQR\n",
    "Q1 = df['price'].quantile(0.25)\n",
    "Q3 = df['price'].quantile(0.75)\n",
    "IQR = Q3 - Q1\n",
    "low_price = Q1 - 1.5 * IQR\n",
    "high_price = Q3 + 1.5 * IQR\n",
    "len(df[( df['price']<high_price) & (df['price']>low_price) ])"
   ],
   "id": "4b42e4561cba10c1",
   "outputs": [
    {
     "data": {
      "text/plain": [
       "26135"
      ]
     },
     "execution_count": 23,
     "metadata": {},
     "output_type": "execute_result"
    }
   ],
   "execution_count": 23
  },
  {
   "metadata": {
    "ExecuteTime": {
     "end_time": "2025-09-10T19:03:25.352538Z",
     "start_time": "2025-09-10T19:03:25.245176Z"
    }
   },
   "cell_type": "code",
   "source": [
    "#5.新数据特征构造\n",
    "# 地区district\n",
    "df['district'] = df['address'].str.split('-').str[0]"
   ],
   "id": "ee4af2e18013662d",
   "outputs": [],
   "execution_count": 36
  },
  {
   "metadata": {
    "ExecuteTime": {
     "end_time": "2025-09-10T19:21:49.197577Z",
     "start_time": "2025-09-10T19:21:49.174938Z"
    }
   },
   "cell_type": "code",
   "source": [
    "# 楼层的类型floor_type\n",
    "#df.sample(10)\n",
    "df['floor_type'] = df['floor'].str.split('（').str[0].astype('category')\n",
    "def fun1(str1):\n",
    "    if pd.isna(str1):\n",
    "        return '未知'\n",
    "    elif '低' in str1:\n",
    "        return '低楼层'\n",
    "    elif '中' in str1:\n",
    "        return '中楼层'\n",
    "    elif '高' in str1:\n",
    "        return '高楼层'\n",
    "df['floor_type2'] = df['floor'].apply(fun1).astype('category')\n",
    "# 是否是直辖市 zxs\n",
    "# def fun2(str2):\n",
    "#     if str2 in ['北京','上海','天津','重庆']:\n",
    "#         return True\n",
    "#     else:\n",
    "#         return False\n",
    "# df['city'].apply(fun2)\n",
    "df['zxs'] = df['city'].apply(lambda x:1 if x in ['北京','上海','天津','重庆'] else 0)\n",
    "# 卧室的数量 bedrooms\n",
    "df['bedrooms'] = df['rooms'].str.split('室').str[0].astype(int)\n",
    "# 客厅的数量 living rooms\n",
    "# df['livingrooms'].str.split('室').str[1].str.split('厅').str[0].astype(int) #有点太麻烦了,用正则表达式\n",
    "df['livingrooms'] = df['rooms'].str.extract(r'(\\d+)厅').astype(int)\n",
    "# 楼龄building_age\n",
    "df['building_age'] = 2025 - df['year']\n",
    "# 价格的分段 price_lables\n",
    "df['price_lables'] = pd.cut(df['price'], bins=4, labels=['低价','中价','高价','豪华'])  #pd.cut() - pandas 的分箱函数，用于将连续数值转换为分类数据,bins=4 - 将数据分成 4 个等宽的区间,labels=['低价','中价','高价','豪华'] - 为这 4 个区间指定中文标签"
   ],
   "id": "299e7077facfe776",
   "outputs": [],
   "execution_count": 49
  },
  {
   "metadata": {
    "ExecuteTime": {
     "end_time": "2025-09-12T02:20:04.342998Z",
     "start_time": "2025-09-12T02:20:04.173919Z"
    }
   },
   "cell_type": "code",
   "source": [
    "#6. 问题分析及可视化\n",
    "\"\"\"\n",
    "问题编号:A1\n",
    "问题:哪些变量最影响房价?面积、楼层、房间数哪个影响更大?\n",
    "分析主题:特征相关性\n",
    "分析目标:了解房屋各特征对房价的线性影响\n",
    "分组字段:无\n",
    "指标/方法:皮尔逊相关系数\n",
    "\"\"\"\n",
    "#选择数值型的特征\n",
    "a = df[['price','area','unit','building_age']].corr() #简单记忆： 选择多列 = 双括号，返回 DataFrame；选择单列 = 单括号，返回 Series。\n",
    "# 对房价的影响最大的几个因素的排序\n",
    "a['price'].sort_values(ascending=False)[1:]\n",
    "# 相关性的热力图\n",
    "plt.figure(figsize = (10,10))\n",
    "sns.heatmap(a,cmap = 'coolwarm')\n",
    "plt.title('房屋特征相关性热力图')\n",
    "plt.tight_layout()"
   ],
   "id": "82007ce3d9e3bbaf",
   "outputs": [
    {
     "data": {
      "text/plain": [
       "<Figure size 1000x1000 with 2 Axes>"
      ],
      "image/png": "[encoded data removed]"
     },
     "metadata": {},
     "output_type": "display_data"
    }
   ],
   "execution_count": 87
  },
  {
   "metadata": {
    "ExecuteTime": {
     "end_time": "2025-09-11T18:13:49.784186Z",
     "start_time": "2025-09-11T18:13:49.768172Z"
    }
   },
   "cell_type": "code",
   "source": "df.sample(10)",
   "id": "36c30b960ca3db88",
   "outputs": [
    {
     "data": {
      "text/plain": [
       "       city address    area     floor     name  price province rooms toward  \\\n",
       "17400    法库    华山地区   58.00  中层（共11层）     方林徽府   95.8       辽宁  2室2厅    南北向   \n",
       "65078    海阳      东村   86.49  中层（共29层）  碧桂园十里金滩   49.8       山东  3室2厅    南北向   \n",
       "103858  哈尔滨      松浦   70.50  低层（共32层）   松浦观江国际   70.0      黑龙江  2室1厅    南北向   \n",
       "36044    新沂     高铁站   90.00  低层（共18层）    月星星湖湾  130.0       江苏  2室2厅     南向   \n",
       "15096    中山     横栏镇  119.00  低层（共16层）     锦江尚苑  113.0       广东  3室2厅     南向   \n",
       "57626    阳曲     五一路  114.00   中层（共6层）   太原大学小区  135.0       山西  3室2厅    南北向   \n",
       "61488    昌黎   北戴河其他  104.00  中层（共11层）     香邑澜湾   98.0       河北  3室2厅    南北向   \n",
       "39078   连云港     老城区  115.69   低层（共6层）     清源小区   98.6       江苏  3室2厅    南北向   \n",
       "53898    汝阳   洛龙体育场  135.00  高层（共32层）  建业高尔夫花园  209.0       河南  3室2厅    南北向   \n",
       "29856    德惠   中东大市场  109.00  低层（共14层）     福临家园   99.8       吉林  2室1厅     南向   \n",
       "\n",
       "           unit  year district floor_type floor_type2  bedrooms  livingrooms  \\\n",
       "17400   16517.0  2018     华山地区         中层         中楼层         2            2   \n",
       "65078    5758.0  2015       东村         中层         中楼层         3            2   \n",
       "103858   9929.0  2009       松浦         低层         低楼层         2            1   \n",
       "36044   14444.0  2015      高铁站         低层         低楼层         2            2   \n",
       "15096    9496.0  2019      横栏镇         低层         低楼层         3            2   \n",
       "57626   11842.0  1999      五一路         中层         中楼层         3            2   \n",
       "61488    9423.0  2018    北戴河其他         中层         中楼层         3            2   \n",
       "39078    8523.0  2008      老城区         低层         低楼层         3            2   \n",
       "53898   15481.0  2012    洛龙体育场         高层         高楼层         3            2   \n",
       "29856    9156.0  2008    中东大市场         低层         低楼层         2            1   \n",
       "\n",
       "        building_age  zxs price_lables  \n",
       "17400              7    0           低价  \n",
       "65078             10    0           低价  \n",
       "103858            16    0           低价  \n",
       "36044             10    0           低价  \n",
       "15096              6    0           低价  \n",
       "57626             26    0           低价  \n",
       "61488              7    0           低价  \n",
       "39078             17    0           低价  \n",
       "53898             13    0           低价  \n",
       "29856             17    0           低价  "
      ],
      "text/html": [
       "<div>\n",
       "<style scoped>\n",
       "    .dataframe tbody tr th:only-of-type {\n",
       "        vertical-align: middle;\n",
       "    }\n",
       "\n",
       "    .dataframe tbody tr th {\n",
       "        vertical-align: top;\n",
       "    }\n",
       "\n",
       "    .dataframe thead th {\n",
       "        text-align: right;\n",
       "    }\n",
       "</style>\n",
       "<table border=\"1\" class=\"dataframe\">\n",
       "  <thead>\n",
       "    <tr style=\"text-align: right;\">\n",
       "      <th></th>\n",
       "      <th>city</th>\n",
       "      <th>address</th>\n",
       "      <th>area</th>\n",
       "      <th>floor</th>\n",
       "      <th>name</th>\n",
       "      <th>price</th>\n",
       "      <th>province</th>\n",
       "      <th>rooms</th>\n",
       "      <th>toward</th>\n",
       "      <th>unit</th>\n",
       "      <th>year</th>\n",
       "      <th>district</th>\n",
       "      <th>floor_type</th>\n",
       "      <th>floor_type2</th>\n",
       "      <th>bedrooms</th>\n",
       "      <th>livingrooms</th>\n",
       "      <th>building_age</th>\n",
       "      <th>zxs</th>\n",
       "      <th>price_lables</th>\n",
       "    </tr>\n",
       "  </thead>\n",
       "  <tbody>\n",
       "    <tr>\n",
       "      <th>17400</th>\n",
       "      <td>法库</td>\n",
       "      <td>华山地区</td>\n",
       "      <td>58.00</td>\n",
       "      <td>中层（共11层）</td>\n",
       "      <td>方林徽府</td>\n",
       "      <td>95.8</td>\n",
       "      <td>辽宁</td>\n",
       "      <td>2室2厅</td>\n",
       "      <td>南北向</td>\n",
       "      <td>16517.0</td>\n",
       "      <td>2018</td>\n",
       "      <td>华山地区</td>\n",
       "      <td>中层</td>\n",
       "      <td>中楼层</td>\n",
       "      <td>2</td>\n",
       "      <td>2</td>\n",
       "      <td>7</td>\n",
       "      <td>0</td>\n",
       "      <td>低价</td>\n",
       "    </tr>\n",
       "    <tr>\n",
       "      <th>65078</th>\n",
       "      <td>海阳</td>\n",
       "      <td>东村</td>\n",
       "      <td>86.49</td>\n",
       "      <td>中层（共29层）</td>\n",
       "      <td>碧桂园十里金滩</td>\n",
       "      <td>49.8</td>\n",
       "      <td>山东</td>\n",
       "      <td>3室2厅</td>\n",
       "      <td>南北向</td>\n",
       "      <td>5758.0</td>\n",
       "      <td>2015</td>\n",
       "      <td>东村</td>\n",
       "      <td>中层</td>\n",
       "      <td>中楼层</td>\n",
       "      <td>3</td>\n",
       "      <td>2</td>\n",
       "      <td>10</td>\n",
       "      <td>0</td>\n",
       "      <td>低价</td>\n",
       "    </tr>\n",
       "    <tr>\n",
       "      <th>103858</th>\n",
       "      <td>哈尔滨</td>\n",
       "      <td>松浦</td>\n",
       "      <td>70.50</td>\n",
       "      <td>低层（共32层）</td>\n",
       "      <td>松浦观江国际</td>\n",
       "      <td>70.0</td>\n",
       "      <td>黑龙江</td>\n",
       "      <td>2室1厅</td>\n",
       "      <td>南北向</td>\n",
       "      <td>9929.0</td>\n",
       "      <td>2009</td>\n",
       "      <td>松浦</td>\n",
       "      <td>低层</td>\n",
       "      <td>低楼层</td>\n",
       "      <td>2</td>\n",
       "      <td>1</td>\n",
       "      <td>16</td>\n",
       "      <td>0</td>\n",
       "      <td>低价</td>\n",
       "    </tr>\n",
       "    <tr>\n",
       "      <th>36044</th>\n",
       "      <td>新沂</td>\n",
       "      <td>高铁站</td>\n",
       "      <td>90.00</td>\n",
       "      <td>低层（共18层）</td>\n",
       "      <td>月星星湖湾</td>\n",
       "      <td>130.0</td>\n",
       "      <td>江苏</td>\n",
       "      <td>2室2厅</td>\n",
       "      <td>南向</td>\n",
       "      <td>14444.0</td>\n",
       "      <td>2015</td>\n",
       "      <td>高铁站</td>\n",
       "      <td>低层</td>\n",
       "      <td>低楼层</td>\n",
       "      <td>2</td>\n",
       "      <td>2</td>\n",
       "      <td>10</td>\n",
       "      <td>0</td>\n",
       "      <td>低价</td>\n",
       "    </tr>\n",
       "    <tr>\n",
       "      <th>15096</th>\n",
       "      <td>中山</td>\n",
       "      <td>横栏镇</td>\n",
       "      <td>119.00</td>\n",
       "      <td>低层（共16层）</td>\n",
       "      <td>锦江尚苑</td>\n",
       "      <td>113.0</td>\n",
       "      <td>广东</td>\n",
       "      <td>3室2厅</td>\n",
       "      <td>南向</td>\n",
       "      <td>9496.0</td>\n",
       "      <td>2019</td>\n",
       "      <td>横栏镇</td>\n",
       "      <td>低层</td>\n",
       "      <td>低楼层</td>\n",
       "      <td>3</td>\n",
       "      <td>2</td>\n",
       "      <td>6</td>\n",
       "      <td>0</td>\n",
       "      <td>低价</td>\n",
       "    </tr>\n",
       "    <tr>\n",
       "      <th>57626</th>\n",
       "      <td>阳曲</td>\n",
       "      <td>五一路</td>\n",
       "      <td>114.00</td>\n",
       "      <td>中层（共6层）</td>\n",
       "      <td>太原大学小区</td>\n",
       "      <td>135.0</td>\n",
       "      <td>山西</td>\n",
       "      <td>3室2厅</td>\n",
       "      <td>南北向</td>\n",
       "      <td>11842.0</td>\n",
       "      <td>1999</td>\n",
       "      <td>五一路</td>\n",
       "      <td>中层</td>\n",
       "      <td>中楼层</td>\n",
       "      <td>3</td>\n",
       "      <td>2</td>\n",
       "      <td>26</td>\n",
       "      <td>0</td>\n",
       "      <td>低价</td>\n",
       "    </tr>\n",
       "    <tr>\n",
       "      <th>61488</th>\n",
       "      <td>昌黎</td>\n",
       "      <td>北戴河其他</td>\n",
       "      <td>104.00</td>\n",
       "      <td>中层（共11层）</td>\n",
       "      <td>香邑澜湾</td>\n",
       "      <td>98.0</td>\n",
       "      <td>河北</td>\n",
       "      <td>3室2厅</td>\n",
       "      <td>南北向</td>\n",
       "      <td>9423.0</td>\n",
       "      <td>2018</td>\n",
       "      <td>北戴河其他</td>\n",
       "      <td>中层</td>\n",
       "      <td>中楼层</td>\n",
       "      <td>3</td>\n",
       "      <td>2</td>\n",
       "      <td>7</td>\n",
       "      <td>0</td>\n",
       "      <td>低价</td>\n",
       "    </tr>\n",
       "    <tr>\n",
       "      <th>39078</th>\n",
       "      <td>连云港</td>\n",
       "      <td>老城区</td>\n",
       "      <td>115.69</td>\n",
       "      <td>低层（共6层）</td>\n",
       "      <td>清源小区</td>\n",
       "      <td>98.6</td>\n",
       "      <td>江苏</td>\n",
       "      <td>3室2厅</td>\n",
       "      <td>南北向</td>\n",
       "      <td>8523.0</td>\n",
       "      <td>2008</td>\n",
       "      <td>老城区</td>\n",
       "      <td>低层</td>\n",
       "      <td>低楼层</td>\n",
       "      <td>3</td>\n",
       "      <td>2</td>\n",
       "      <td>17</td>\n",
       "      <td>0</td>\n",
       "      <td>低价</td>\n",
       "    </tr>\n",
       "    <tr>\n",
       "      <th>53898</th>\n",
       "      <td>汝阳</td>\n",
       "      <td>洛龙体育场</td>\n",
       "      <td>135.00</td>\n",
       "      <td>高层（共32层）</td>\n",
       "      <td>建业高尔夫花园</td>\n",
       "      <td>209.0</td>\n",
       "      <td>河南</td>\n",
       "      <td>3室2厅</td>\n",
       "      <td>南北向</td>\n",
       "      <td>15481.0</td>\n",
       "      <td>2012</td>\n",
       "      <td>洛龙体育场</td>\n",
       "      <td>高层</td>\n",
       "      <td>高楼层</td>\n",
       "      <td>3</td>\n",
       "      <td>2</td>\n",
       "      <td>13</td>\n",
       "      <td>0</td>\n",
       "      <td>低价</td>\n",
       "    </tr>\n",
       "    <tr>\n",
       "      <th>29856</th>\n",
       "      <td>德惠</td>\n",
       "      <td>中东大市场</td>\n",
       "      <td>109.00</td>\n",
       "      <td>低层（共14层）</td>\n",
       "      <td>福临家园</td>\n",
       "      <td>99.8</td>\n",
       "      <td>吉林</td>\n",
       "      <td>2室1厅</td>\n",
       "      <td>南向</td>\n",
       "      <td>9156.0</td>\n",
       "      <td>2008</td>\n",
       "      <td>中东大市场</td>\n",
       "      <td>低层</td>\n",
       "      <td>低楼层</td>\n",
       "      <td>2</td>\n",
       "      <td>1</td>\n",
       "      <td>17</td>\n",
       "      <td>0</td>\n",
       "      <td>低价</td>\n",
       "    </tr>\n",
       "  </tbody>\n",
       "</table>\n",
       "</div>"
      ]
     },
     "execution_count": 75,
     "metadata": {},
     "output_type": "execute_result"
    }
   ],
   "execution_count": 75
  },
  {
   "metadata": {
    "ExecuteTime": {
     "end_time": "2025-09-10T19:22:09.771824Z",
     "start_time": "2025-09-10T19:22:09.740285Z"
    }
   },
   "cell_type": "code",
   "source": [
    "\n",
    "\n",
    "\n",
    "df.info()\n",
    "#6.问题分析及可视化\n"
   ],
   "id": "2d70ff84007a969c",
   "outputs": [
    {
     "name": "stdout",
     "output_type": "stream",
     "text": [
      "<class 'pandas.core.frame.DataFrame'>\n",
      "Index: 28079 entries, 0 to 106088\n",
      "Data columns (total 14 columns):\n",
      " #   Column       Non-Null Count  Dtype   \n",
      "---  ------       --------------  -----   \n",
      " 0   city         28079 non-null  object  \n",
      " 1   address      28079 non-null  object  \n",
      " 2   area         28079 non-null  float64 \n",
      " 3   floor        28079 non-null  object  \n",
      " 4   name         28079 non-null  object  \n",
      " 5   price        28079 non-null  float64 \n",
      " 6   province     28079 non-null  object  \n",
      " 7   rooms        28079 non-null  object  \n",
      " 8   toward       28079 non-null  category\n",
      " 9   unit         28079 non-null  float64 \n",
      " 10  year         28079 non-null  int64   \n",
      " 11  district     28079 non-null  object  \n",
      " 12  floor_type   28079 non-null  category\n",
      " 13  floor_type2  28079 non-null  category\n",
      "dtypes: category(3), float64(3), int64(1), object(7)\n",
      "memory usage: 3.7+ MB\n"
     ]
    }
   ],
   "execution_count": 51
  },
  {
   "metadata": {
    "ExecuteTime": {
     "end_time": "2025-09-12T02:22:12.971033Z",
     "start_time": "2025-09-12T02:22:12.924489Z"
    }
   },
   "cell_type": "code",
   "source": [
    "'''\n",
    "问题编号:A2\n",
    "问题:全国房价总体分布是怎样的?是否存在极端值?\n",
    "分析主题:描述性统计\n",
    "分析目标:概览数值型字段的分布特征\n",
    "分组字段:无\n",
    "指标/方法:平均数/中位数/四分位数/标准差\n",
    "'''\n",
    "df.describe()"
   ],
   "id": "92d7d03b0f6b6eed",
   "outputs": [
    {
     "data": {
      "text/plain": [
       "               area         price           unit          year      bedrooms  \\\n",
       "count  28079.000000  28079.000000   28079.000000  28079.000000  28079.000000   \n",
       "mean     107.829038    147.541519   13429.487553   2012.924463      2.770398   \n",
       "std       41.189153    173.377815   10920.563531      6.117544      0.845008   \n",
       "min       21.000000      9.000000    1000.000000   1930.000000      0.000000   \n",
       "25%       86.000000     74.000000    7779.500000   2010.000000      2.000000   \n",
       "50%      101.400000    109.000000   10833.000000   2015.000000      3.000000   \n",
       "75%      126.000000    167.000000   15396.000000   2017.000000      3.000000   \n",
       "max      588.000000   6899.000000  456311.000000   2023.000000      9.000000   \n",
       "\n",
       "        livingrooms  building_age           zxs  \n",
       "count  28079.000000  28079.000000  28079.000000  \n",
       "mean       1.857687     12.075537      0.011895  \n",
       "std        0.411881      6.117544      0.108416  \n",
       "min        0.000000      2.000000      0.000000  \n",
       "25%        2.000000      8.000000      0.000000  \n",
       "50%        2.000000     10.000000      0.000000  \n",
       "75%        2.000000     15.000000      0.000000  \n",
       "max       12.000000     95.000000      1.000000  "
      ],
      "text/html": [
       "<div>\n",
       "<style scoped>\n",
       "    .dataframe tbody tr th:only-of-type {\n",
       "        vertical-align: middle;\n",
       "    }\n",
       "\n",
       "    .dataframe tbody tr th {\n",
       "        vertical-align: top;\n",
       "    }\n",
       "\n",
       "    .dataframe thead th {\n",
       "        text-align: right;\n",
       "    }\n",
       "</style>\n",
       "<table border=\"1\" class=\"dataframe\">\n",
       "  <thead>\n",
       "    <tr style=\"text-align: right;\">\n",
       "      <th></th>\n",
       "      <th>area</th>\n",
       "      <th>price</th>\n",
       "      <th>unit</th>\n",
       "      <th>year</th>\n",
       "      <th>bedrooms</th>\n",
       "      <th>livingrooms</th>\n",
       "      <th>building_age</th>\n",
       "      <th>zxs</th>\n",
       "    </tr>\n",
       "  </thead>\n",
       "  <tbody>\n",
       "    <tr>\n",
       "      <th>count</th>\n",
       "      <td>28079.000000</td>\n",
       "      <td>28079.000000</td>\n",
       "      <td>28079.000000</td>\n",
       "      <td>28079.000000</td>\n",
       "      <td>28079.000000</td>\n",
       "      <td>28079.000000</td>\n",
       "      <td>28079.000000</td>\n",
       "      <td>28079.000000</td>\n",
       "    </tr>\n",
       "    <tr>\n",
       "      <th>mean</th>\n",
       "      <td>107.829038</td>\n",
       "      <td>147.541519</td>\n",
       "      <td>13429.487553</td>\n",
       "      <td>2012.924463</td>\n",
       "      <td>2.770398</td>\n",
       "      <td>1.857687</td>\n",
       "      <td>12.075537</td>\n",
       "      <td>0.011895</td>\n",
       "    </tr>\n",
       "    <tr>\n",
       "      <th>std</th>\n",
       "      <td>41.189153</td>\n",
       "      <td>173.377815</td>\n",
       "      <td>10920.563531</td>\n",
       "      <td>6.117544</td>\n",
       "      <td>0.845008</td>\n",
       "      <td>0.411881</td>\n",
       "      <td>6.117544</td>\n",
       "      <td>0.108416</td>\n",
       "    </tr>\n",
       "    <tr>\n",
       "      <th>min</th>\n",
       "      <td>21.000000</td>\n",
       "      <td>9.000000</td>\n",
       "      <td>1000.000000</td>\n",
       "      <td>1930.000000</td>\n",
       "      <td>0.000000</td>\n",
       "      <td>0.000000</td>\n",
       "      <td>2.000000</td>\n",
       "      <td>0.000000</td>\n",
       "    </tr>\n",
       "    <tr>\n",
       "      <th>25%</th>\n",
       "      <td>86.000000</td>\n",
       "      <td>74.000000</td>\n",
       "      <td>7779.500000</td>\n",
       "      <td>2010.000000</td>\n",
       "      <td>2.000000</td>\n",
       "      <td>2.000000</td>\n",
       "      <td>8.000000</td>\n",
       "      <td>0.000000</td>\n",
       "    </tr>\n",
       "    <tr>\n",
       "      <th>50%</th>\n",
       "      <td>101.400000</td>\n",
       "      <td>109.000000</td>\n",
       "      <td>10833.000000</td>\n",
       "      <td>2015.000000</td>\n",
       "      <td>3.000000</td>\n",
       "      <td>2.000000</td>\n",
       "      <td>10.000000</td>\n",
       "      <td>0.000000</td>\n",
       "    </tr>\n",
       "    <tr>\n",
       "      <th>75%</th>\n",
       "      <td>126.000000</td>\n",
       "      <td>167.000000</td>\n",
       "      <td>15396.000000</td>\n",
       "      <td>2017.000000</td>\n",
       "      <td>3.000000</td>\n",
       "      <td>2.000000</td>\n",
       "      <td>15.000000</td>\n",
       "      <td>0.000000</td>\n",
       "    </tr>\n",
       "    <tr>\n",
       "      <th>max</th>\n",
       "      <td>588.000000</td>\n",
       "      <td>6899.000000</td>\n",
       "      <td>456311.000000</td>\n",
       "      <td>2023.000000</td>\n",
       "      <td>9.000000</td>\n",
       "      <td>12.000000</td>\n",
       "      <td>95.000000</td>\n",
       "      <td>1.000000</td>\n",
       "    </tr>\n",
       "  </tbody>\n",
       "</table>\n",
       "</div>"
      ]
     },
     "execution_count": 88,
     "metadata": {},
     "output_type": "execute_result"
    }
   ],
   "execution_count": 88
  },
  {
   "metadata": {
    "ExecuteTime": {
     "end_time": "2025-09-12T02:29:24.491135Z",
     "start_time": "2025-09-12T02:29:24.376401Z"
    }
   },
   "cell_type": "code",
   "source": [
    "#房价分布的直方图\n",
    "plt.subplot(111)\n",
    "plt.hist(df['price'],bins=10)"
   ],
   "id": "ec16746c4074d314",
   "outputs": [
    {
     "data": {
      "text/plain": [
       "(array([2.7758e+04, 2.3800e+02, 5.9000e+01, 1.1000e+01, 2.0000e+00,\n",
       "        5.0000e+00, 2.0000e+00, 2.0000e+00, 1.0000e+00, 1.0000e+00]),\n",
       " array([   9.,  698., 1387., 2076., 2765., 3454., 4143., 4832., 5521.,\n",
       "        6210., 6899.]),\n",
       " <BarContainer object of 10 artists>)"
      ]
     },
     "execution_count": 93,
     "metadata": {},
     "output_type": "execute_result"
    },
    {
     "data": {
      "text/plain": [
       "<Figure size 640x480 with 1 Axes>"
      ],
      "image/png": "[encoded data removed]"
     },
     "metadata": {},
     "output_type": "display_data"
    }
   ],
   "execution_count": 93
  },
  {
   "metadata": {
    "ExecuteTime": {
     "end_time": "2025-09-12T02:31:18.870291Z",
     "start_time": "2025-09-12T02:31:18.732375Z"
    }
   },
   "cell_type": "code",
   "source": "sns.histplot(data=df,x='price',bins=10,kde=True)",
   "id": "cec5f574b6604c6d",
   "outputs": [
    {
     "data": {
      "text/plain": [
       "<Axes: xlabel='price', ylabel='Count'>"
      ]
     },
     "execution_count": 96,
     "metadata": {},
     "output_type": "execute_result"
    },
    {
     "data": {
      "text/plain": [
       "<Figure size 640x480 with 1 Axes>"
      ],
      "image/png": "[encoded data removed]"
     },
     "metadata": {},
     "output_type": "display_data"
    }
   ],
   "execution_count": 96
  },
  {
   "metadata": {},
   "cell_type": "code",
   "outputs": [],
   "execution_count": null,
   "source": [
    "'''\n",
    "问题编号:A6\n",
    "问题:南北向是否真比单一朝向贵?贵多少?\n",
    "分析主题:朝向溢价\n",
    "分析目标:评估不同朝向的价格差异\n",
    "分组字段:toward\n",
    "指标/方法:方差分析/多重比较\n",
    "'''"
   ],
   "id": "f24e8f0a1aeb130e"
  }
 ],
 "metadata": {
  "kernelspec": {
   "display_name": "Python 3",
   "language": "python",
   "name": "python3"
  },
  "language_info": {
   "codemirror_mode": {
    "name": "ipython",
    "version": 2
   },
   "file_extension": ".py",
   "mimetype": "text/x-python",
   "name": "python",
   "nbconvert_exporter": "python",
   "pygments_lexer": "ipython2",
   "version": "2.7.6"
  }
 },
 "nbformat": 4,
 "nbformat_minor": 5
}
