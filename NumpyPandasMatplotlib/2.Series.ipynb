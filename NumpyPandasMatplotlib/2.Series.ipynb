{
 "cells": [
  {
   "cell_type": "code",
   "id": "initial_id",
   "metadata": {
    "collapsed": true,
    "ExecuteTime": {
     "end_time": "2025-09-14T19:09:19.831257Z",
     "start_time": "2025-09-14T19:09:19.753463Z"
    }
   },
   "source": [
    "#series的创建,通过列表或者字典确认\n",
    "import pandas as pd\n",
    "s = pd.Series([10,2,3,4,5])\n",
    "print(s)\n",
    "#自定义索引\n",
    "s = pd.Series([10,2,3,4,5], index=['A','B','C','D','E'])\n",
    "print(s)\n",
    "#定义name\n",
    "s = pd.Series([10,2,3,4,5], index=['A','B','C','D','E'], name = '月份')\n",
    "print(s)"
   ],
   "outputs": [
    {
     "name": "stdout",
     "output_type": "stream",
     "text": [
      "0    10\n",
      "1     2\n",
      "2     3\n",
      "3     4\n",
      "4     5\n",
      "dtype: int64\n",
      "A    10\n",
      "B     2\n",
      "C     3\n",
      "D     4\n",
      "E     5\n",
      "dtype: int64\n",
      "A    10\n",
      "B     2\n",
      "C     3\n",
      "D     4\n",
      "E     5\n",
      "Name: 月份, dtype: int64\n"
     ]
    }
   ],
   "execution_count": 4
  },
  {
   "metadata": {
    "ExecuteTime": {
     "end_time": "2025-09-14T19:10:37.831085Z",
     "start_time": "2025-09-14T19:10:37.795364Z"
    }
   },
   "cell_type": "code",
   "source": [
    "#通过字典创建\n",
    "s = pd.Series({'a':1,'b':2,'c':3,'d':4,'e':5})\n",
    "print(s)"
   ],
   "id": "d1300b8e976941fb",
   "outputs": [
    {
     "name": "stdout",
     "output_type": "stream",
     "text": [
      "a    1\n",
      "b    2\n",
      "c    3\n",
      "d    4\n",
      "e    5\n",
      "dtype: int64\n"
     ]
    }
   ],
   "execution_count": 5
  },
  {
   "metadata": {
    "ExecuteTime": {
     "end_time": "2025-09-14T19:13:44.388634Z",
     "start_time": "2025-09-14T19:13:44.278994Z"
    }
   },
   "cell_type": "code",
   "source": [
    "s1 = pd.Series(s,index=['a','c'])\n",
    "print(s1)"
   ],
   "id": "62279fd791a6714d",
   "outputs": [
    {
     "name": "stdout",
     "output_type": "stream",
     "text": [
      "a    1\n",
      "c    3\n",
      "dtype: int64\n"
     ]
    }
   ],
   "execution_count": 6
  },
  {
   "metadata": {
    "ExecuteTime": {
     "end_time": "2025-09-14T19:21:23.439531Z",
     "start_time": "2025-09-14T19:21:23.397506Z"
    }
   },
   "cell_type": "code",
   "source": [
    "#Series 的属性\n",
    "#index:Series的索引对象\n",
    "print(s.index)"
   ],
   "id": "4897557cf8f11a89",
   "outputs": [
    {
     "name": "stdout",
     "output_type": "stream",
     "text": [
      "Index(['a', 'b', 'c', 'd', 'e'], dtype='object')\n"
     ]
    }
   ],
   "execution_count": 7
  },
  {
   "metadata": {
    "ExecuteTime": {
     "end_time": "2025-09-14T19:22:03.350776Z",
     "start_time": "2025-09-14T19:22:03.319954Z"
    }
   },
   "cell_type": "code",
   "source": [
    "#values:Series的值\n",
    "print(s.values)"
   ],
   "id": "289cd67f2998d759",
   "outputs": [
    {
     "name": "stdout",
     "output_type": "stream",
     "text": [
      "[1 2 3 4 5]\n"
     ]
    }
   ],
   "execution_count": 8
  },
  {
   "metadata": {
    "ExecuteTime": {
     "end_time": "2025-09-14T19:22:57.398642Z",
     "start_time": "2025-09-14T19:22:57.392465Z"
    }
   },
   "cell_type": "code",
   "source": [
    "#shape 维度 \n",
    "print(s.shape,s.ndim,s.size)"
   ],
   "id": "8209001ac7deb33b",
   "outputs": [
    {
     "name": "stdout",
     "output_type": "stream",
     "text": [
      "(5,) 1 5\n"
     ]
    }
   ],
   "execution_count": 9
  },
  {
   "metadata": {
    "ExecuteTime": {
     "end_time": "2025-09-14T19:23:52.251083Z",
     "start_time": "2025-09-14T19:23:52.222168Z"
    }
   },
   "cell_type": "code",
   "source": [
    "s.name = 'test'\n",
    "#数据类型\n",
    "print(s.dtype,s.name)"
   ],
   "id": "a8a1d0a1194bb4ff",
   "outputs": [
    {
     "name": "stdout",
     "output_type": "stream",
     "text": [
      "int64 test\n"
     ]
    }
   ],
   "execution_count": 11
  },
  {
   "metadata": {
    "ExecuteTime": {
     "end_time": "2025-09-14T19:24:22.512850Z",
     "start_time": "2025-09-14T19:24:22.493726Z"
    }
   },
   "cell_type": "code",
   "source": [
    "#获取索引\n",
    "print(s.loc['a'])"
   ],
   "id": "337ed31fc61b38c8",
   "outputs": [
    {
     "name": "stdout",
     "output_type": "stream",
     "text": [
      "1\n"
     ]
    }
   ],
   "execution_count": 12
  },
  {
   "metadata": {
    "ExecuteTime": {
     "end_time": "2025-09-14T22:19:09.182297Z",
     "start_time": "2025-09-14T22:19:09.154894Z"
    }
   },
   "cell_type": "code",
   "source": [
    "#隐式索引指按照位置\n",
    "print(s.iloc[1])\n",
    "print(s.at['a'])\n",
    "print(s.iat[0])"
   ],
   "id": "236cb0012f5498e9",
   "outputs": [
    {
     "name": "stdout",
     "output_type": "stream",
     "text": [
      "2\n",
      "1\n",
      "1\n"
     ]
    }
   ],
   "execution_count": 14
  },
  {
   "metadata": {
    "ExecuteTime": {
     "end_time": "2025-09-14T22:21:23.026283Z",
     "start_time": "2025-09-14T22:21:22.921619Z"
    }
   },
   "cell_type": "code",
   "source": [
    "#访问数据,通过标签找\n",
    "print(s['a'])\n",
    "#布尔索引\n",
    "print(s[s<3])"
   ],
   "id": "8c4f3021347ad476",
   "outputs": [
    {
     "name": "stdout",
     "output_type": "stream",
     "text": [
      "1\n",
      "a    1\n",
      "b    2\n",
      "Name: test, dtype: int64\n"
     ]
    }
   ],
   "execution_count": 17
  },
  {
   "metadata": {},
   "cell_type": "code",
   "outputs": [],
   "execution_count": null,
   "source": "",
   "id": "71763d7dd3897131"
  }
 ],
 "metadata": {
  "kernelspec": {
   "display_name": "Python 3",
   "language": "python",
   "name": "python3"
  },
  "language_info": {
   "codemirror_mode": {
    "name": "ipython",
    "version": 2
   },
   "file_extension": ".py",
   "mimetype": "text/x-python",
   "name": "python",
   "nbconvert_exporter": "python",
   "pygments_lexer": "ipython2",
   "version": "2.7.6"
  }
 },
 "nbformat": 4,
 "nbformat_minor": 5
}
