{
 "cells": [
  {
   "cell_type": "code",
   "id": "initial_id",
   "metadata": {
    "collapsed": true,
    "ExecuteTime": {
     "end_time": "2025-09-14T19:09:19.831257Z",
     "start_time": "2025-09-14T19:09:19.753463Z"
    }
   },
   "source": [
    "#series的创建,通过列表或者字典确认\n",
    "import pandas as pd\n",
    "s = pd.Series([10,2,3,4,5])\n",
    "print(s)\n",
    "#自定义索引\n",
    "s = pd.Series([10,2,3,4,5], index=['A','B','C','D','E'])\n",
    "print(s)\n",
    "#定义name\n",
    "s = pd.Series([10,2,3,4,5], index=['A','B','C','D','E'], name = '月份')\n",
    "print(s)"
   ],
   "outputs": [
    {
     "name": "stdout",
     "output_type": "stream",
     "text": [
      "0    10\n",
      "1     2\n",
      "2     3\n",
      "3     4\n",
      "4     5\n",
      "dtype: int64\n",
      "A    10\n",
      "B     2\n",
      "C     3\n",
      "D     4\n",
      "E     5\n",
      "dtype: int64\n",
      "A    10\n",
      "B     2\n",
      "C     3\n",
      "D     4\n",
      "E     5\n",
      "Name: 月份, dtype: int64\n"
     ]
    }
   ],
   "execution_count": 4
  },
  {
   "metadata": {
    "ExecuteTime": {
     "end_time": "2025-09-14T19:10:37.831085Z",
     "start_time": "2025-09-14T19:10:37.795364Z"
    }
   },
   "cell_type": "code",
   "source": [
    "#通过字典创建\n",
    "s = pd.Series({'a':1,'b':2,'c':3,'d':4,'e':5})\n",
    "print(s)"
   ],
   "id": "d1300b8e976941fb",
   "outputs": [
    {
     "name": "stdout",
     "output_type": "stream",
     "text": [
      "a    1\n",
      "b    2\n",
      "c    3\n",
      "d    4\n",
      "e    5\n",
      "dtype: int64\n"
     ]
    }
   ],
   "execution_count": 5
  },
  {
   "metadata": {
    "ExecuteTime": {
     "end_time": "2025-09-14T19:13:44.388634Z",
     "start_time": "2025-09-14T19:13:44.278994Z"
    }
   },
   "cell_type": "code",
   "source": [
    "s1 = pd.Series(s,index=['a','c'])\n",
    "print(s1)"
   ],
   "id": "62279fd791a6714d",
   "outputs": [
    {
     "name": "stdout",
     "output_type": "stream",
     "text": [
      "a    1\n",
      "c    3\n",
      "dtype: int64\n"
     ]
    }
   ],
   "execution_count": 6
  },
  {
   "metadata": {
    "ExecuteTime": {
     "end_time": "2025-09-14T19:21:23.439531Z",
     "start_time": "2025-09-14T19:21:23.397506Z"
    }
   },
   "cell_type": "code",
   "source": [
    "#Series 的属性\n",
    "#index:Series的索引对象\n",
    "print(s.index)"
   ],
   "id": "4897557cf8f11a89",
   "outputs": [
    {
     "name": "stdout",
     "output_type": "stream",
     "text": [
      "Index(['a', 'b', 'c', 'd', 'e'], dtype='object')\n"
     ]
    }
   ],
   "execution_count": 7
  },
  {
   "metadata": {
    "ExecuteTime": {
     "end_time": "2025-09-14T19:22:03.350776Z",
     "start_time": "2025-09-14T19:22:03.319954Z"
    }
   },
   "cell_type": "code",
   "source": [
    "#values:Series的值\n",
    "print(s.values)"
   ],
   "id": "289cd67f2998d759",
   "outputs": [
    {
     "name": "stdout",
     "output_type": "stream",
     "text": [
      "[1 2 3 4 5]\n"
     ]
    }
   ],
   "execution_count": 8
  },
  {
   "metadata": {
    "ExecuteTime": {
     "end_time": "2025-09-14T19:22:57.398642Z",
     "start_time": "2025-09-14T19:22:57.392465Z"
    }
   },
   "cell_type": "code",
   "source": [
    "#shape 维度 \n",
    "print(s.shape,s.ndim,s.size)"
   ],
   "id": "8209001ac7deb33b",
   "outputs": [
    {
     "name": "stdout",
     "output_type": "stream",
     "text": [
      "(5,) 1 5\n"
     ]
    }
   ],
   "execution_count": 9
  },
  {
   "metadata": {
    "ExecuteTime": {
     "end_time": "2025-09-14T19:23:52.251083Z",
     "start_time": "2025-09-14T19:23:52.222168Z"
    }
   },
   "cell_type": "code",
   "source": [
    "s.name = 'test'\n",
    "#数据类型\n",
    "print(s.dtype,s.name)"
   ],
   "id": "a8a1d0a1194bb4ff",
   "outputs": [
    {
     "name": "stdout",
     "output_type": "stream",
     "text": [
      "int64 test\n"
     ]
    }
   ],
   "execution_count": 11
  },
  {
   "metadata": {
    "ExecuteTime": {
     "end_time": "2025-09-14T19:24:22.512850Z",
     "start_time": "2025-09-14T19:24:22.493726Z"
    }
   },
   "cell_type": "code",
   "source": [
    "#获取索引\n",
    "print(s.loc['a'])"
   ],
   "id": "337ed31fc61b38c8",
   "outputs": [
    {
     "name": "stdout",
     "output_type": "stream",
     "text": [
      "1\n"
     ]
    }
   ],
   "execution_count": 12
  },
  {
   "metadata": {
    "ExecuteTime": {
     "end_time": "2025-09-14T22:19:09.182297Z",
     "start_time": "2025-09-14T22:19:09.154894Z"
    }
   },
   "cell_type": "code",
   "source": [
    "#隐式索引指按照位置\n",
    "print(s.iloc[1])\n",
    "print(s.at['a'])\n",
    "print(s.iat[0])"
   ],
   "id": "236cb0012f5498e9",
   "outputs": [
    {
     "name": "stdout",
     "output_type": "stream",
     "text": [
      "2\n",
      "1\n",
      "1\n"
     ]
    }
   ],
   "execution_count": 14
  },
  {
   "metadata": {
    "ExecuteTime": {
     "end_time": "2025-09-14T22:21:23.026283Z",
     "start_time": "2025-09-14T22:21:22.921619Z"
    }
   },
   "cell_type": "code",
   "source": [
    "#访问数据,通过标签找\n",
    "print(s['a'])\n",
    "#布尔索引\n",
    "print(s[s<3])"
   ],
   "id": "8c4f3021347ad476",
   "outputs": [
    {
     "name": "stdout",
     "output_type": "stream",
     "text": [
      "1\n",
      "a    1\n",
      "b    2\n",
      "Name: test, dtype: int64\n"
     ]
    }
   ],
   "execution_count": 17
  },
  {
   "metadata": {
    "ExecuteTime": {
     "end_time": "2025-09-14T22:24:02.093954Z",
     "start_time": "2025-09-14T22:24:02.074972Z"
    }
   },
   "cell_type": "code",
   "source": [
    "s['f'] = 6\n",
    "print(s.head()) # series 前5行\n",
    "print(s.tail()) #后5行\n",
    "print(s.head(2)) \n",
    "print(s.tail(1)) "
   ],
   "id": "71763d7dd3897131",
   "outputs": [
    {
     "name": "stdout",
     "output_type": "stream",
     "text": [
      "a    1\n",
      "b    2\n",
      "c    3\n",
      "d    4\n",
      "e    5\n",
      "Name: test, dtype: int64\n",
      "b    2\n",
      "c    3\n",
      "d    4\n",
      "e    5\n",
      "f    6\n",
      "Name: test, dtype: int64\n",
      "a    1\n",
      "b    2\n",
      "Name: test, dtype: int64\n",
      "f    6\n",
      "Name: test, dtype: int64\n"
     ]
    }
   ],
   "execution_count": 21
  },
  {
   "metadata": {
    "ExecuteTime": {
     "end_time": "2025-09-15T04:03:26.806510Z",
     "start_time": "2025-09-15T04:03:26.736012Z"
    }
   },
   "cell_type": "code",
   "source": [
    "#常见函数\n",
    "import pandas as pd\n",
    "s = pd.Series([10,2,np.nan,None,3,4,5],index=['A','B','C','D','E','F','G'])\n",
    "print(s)"
   ],
   "id": "564227cf1d128e80",
   "outputs": [
    {
     "ename": "NameError",
     "evalue": "name 'nan' is not defined",
     "output_type": "error",
     "traceback": [
      "\u001B[31m---------------------------------------------------------------------------\u001B[39m",
      "\u001B[31mNameError\u001B[39m                                 Traceback (most recent call last)",
      "\u001B[36mCell\u001B[39m\u001B[36m \u001B[39m\u001B[32mIn[24]\u001B[39m\u001B[32m, line 3\u001B[39m\n\u001B[32m      1\u001B[39m \u001B[38;5;66;03m#常见函数\u001B[39;00m\n\u001B[32m      2\u001B[39m \u001B[38;5;28;01mimport\u001B[39;00m\u001B[38;5;250m \u001B[39m\u001B[34;01mpandas\u001B[39;00m\u001B[38;5;250m \u001B[39m\u001B[38;5;28;01mas\u001B[39;00m\u001B[38;5;250m \u001B[39m\u001B[34;01mpd\u001B[39;00m\n\u001B[32m----> \u001B[39m\u001B[32m3\u001B[39m s = pd.Series([\u001B[32m10\u001B[39m,\u001B[32m2\u001B[39m,\u001B[43mnan\u001B[49m,\u001B[38;5;28;01mNone\u001B[39;00m,\u001B[32m3\u001B[39m,\u001B[32m4\u001B[39m,\u001B[32m5\u001B[39m],index=[\u001B[33m'\u001B[39m\u001B[33mA\u001B[39m\u001B[33m'\u001B[39m,\u001B[33m'\u001B[39m\u001B[33mB\u001B[39m\u001B[33m'\u001B[39m,\u001B[33m'\u001B[39m\u001B[33mC\u001B[39m\u001B[33m'\u001B[39m,\u001B[33m'\u001B[39m\u001B[33mD\u001B[39m\u001B[33m'\u001B[39m,\u001B[33m'\u001B[39m\u001B[33mE\u001B[39m\u001B[33m'\u001B[39m,\u001B[33m'\u001B[39m\u001B[33mF\u001B[39m\u001B[33m'\u001B[39m,\u001B[33m'\u001B[39m\u001B[33mG\u001B[39m\u001B[33m'\u001B[39m])\n\u001B[32m      4\u001B[39m \u001B[38;5;28mprint\u001B[39m(s)\n",
      "\u001B[31mNameError\u001B[39m: name 'nan' is not defined"
     ]
    }
   ],
   "execution_count": 24
  },
  {
   "metadata": {},
   "cell_type": "code",
   "outputs": [],
   "execution_count": null,
   "source": "",
   "id": "f131ecf4a7e6c8f9"
  },
  {
   "metadata": {},
   "cell_type": "markdown",
   "source": "",
   "id": "f53aaf7ab0e085fe"
  }
 ],
 "metadata": {
  "kernelspec": {
   "display_name": "Python 3",
   "language": "python",
   "name": "python3"
  },
  "language_info": {
   "codemirror_mode": {
    "name": "ipython",
    "version": 2
   },
   "file_extension": ".py",
   "mimetype": "text/x-python",
   "name": "python",
   "nbconvert_exporter": "python",
   "pygments_lexer": "ipython2",
   "version": "2.7.6"
  }
 },
 "nbformat": 4,
 "nbformat_minor": 5
}
