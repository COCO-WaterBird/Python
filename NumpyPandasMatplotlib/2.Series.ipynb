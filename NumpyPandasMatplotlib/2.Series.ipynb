{
 "cells": [
  {
   "cell_type": "code",
   "id": "initial_id",
   "metadata": {
    "collapsed": true,
    "ExecuteTime": {
     "end_time": "2025-09-14T19:09:19.831257Z",
     "start_time": "2025-09-14T19:09:19.753463Z"
    }
   },
   "source": [
    "#series的创建\n",
    "import pandas as pd\n",
    "s = pd.Series([10,2,3,4,5])\n",
    "print(s)\n",
    "#自定义索引\n",
    "s = pd.Series([10,2,3,4,5], index=['A','B','C','D','E'])\n",
    "print(s)\n",
    "#定义name\n",
    "s = pd.Series([10,2,3,4,5], index=['A','B','C','D','E'], name = '月份')\n",
    "print(s)"
   ],
   "outputs": [
    {
     "name": "stdout",
     "output_type": "stream",
     "text": [
      "0    10\n",
      "1     2\n",
      "2     3\n",
      "3     4\n",
      "4     5\n",
      "dtype: int64\n",
      "A    10\n",
      "B     2\n",
      "C     3\n",
      "D     4\n",
      "E     5\n",
      "dtype: int64\n",
      "A    10\n",
      "B     2\n",
      "C     3\n",
      "D     4\n",
      "E     5\n",
      "Name: 月份, dtype: int64\n"
     ]
    }
   ],
   "execution_count": 4
  },
  {
   "metadata": {
    "ExecuteTime": {
     "end_time": "2025-09-14T19:10:37.831085Z",
     "start_time": "2025-09-14T19:10:37.795364Z"
    }
   },
   "cell_type": "code",
   "source": [
    "#通过字典创建\n",
    "s = pd.Series({'a':1,'b':2,'c':3,'d':4,'e':5})\n",
    "print(s)"
   ],
   "id": "d1300b8e976941fb",
   "outputs": [
    {
     "name": "stdout",
     "output_type": "stream",
     "text": [
      "a    1\n",
      "b    2\n",
      "c    3\n",
      "d    4\n",
      "e    5\n",
      "dtype: int64\n"
     ]
    }
   ],
   "execution_count": 5
  },
  {
   "metadata": {},
   "cell_type": "code",
   "outputs": [],
   "execution_count": null,
   "source": "",
   "id": "62279fd791a6714d"
  }
 ],
 "metadata": {
  "kernelspec": {
   "display_name": "Python 3",
   "language": "python",
   "name": "python3"
  },
  "language_info": {
   "codemirror_mode": {
    "name": "ipython",
    "version": 2
   },
   "file_extension": ".py",
   "mimetype": "text/x-python",
   "name": "python",
   "nbconvert_exporter": "python",
   "pygments_lexer": "ipython2",
   "version": "2.7.6"
  }
 },
 "nbformat": 4,
 "nbformat_minor": 5
}
